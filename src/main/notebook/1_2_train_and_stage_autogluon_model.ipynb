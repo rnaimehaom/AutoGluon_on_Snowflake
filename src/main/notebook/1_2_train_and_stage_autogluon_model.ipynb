{
 "cells": [
  {
   "cell_type": "markdown",
   "id": "aca7b9a2-ae11-48f8-800d-08aecf325cd4",
   "metadata": {},
   "source": [
    "# Step 1.3 Train and Stage\n",
    "\n",
    "We now perform the training, using the dataset we loaded in the last steps. \n",
    "\n",
    "As with AutoML functionalities. We leave the magic to AutoGluon to find the right algorithm\n",
    "and fine tune its parameters and save the best models into a local file. Once the process\n",
    "completes, we then will stage these models into Snowflake for future predictions.\n",
    "\n",
    "Though this entire operation could have been done using Pandas, I wanted to demonstrate\n",
    "how this can be done using Snowpark. \n"
   ]
  },
  {
   "cell_type": "code",
   "execution_count": 36,
   "id": "c22660f3",
   "metadata": {},
   "outputs": [],
   "source": [
    "from IPython.display import display, HTML, Image , Markdown\n",
    "from snowflake.snowpark.session import Session\n",
    "from snowflake.snowpark.types import * \n",
    "from snowflake.snowpark.functions import *\n",
    "import configparser\n",
    "\n",
    "PROJECT_HOME_DIR = '../../..'\n",
    "CONFIG_FL = f'{PROJECT_HOME_DIR}/config.ini'\n",
    "LOCAL_TEMP_DIR = f'{PROJECT_HOME_DIR}/temp'\n",
    "\n",
    "%run ./scripts/notebook_helpers.py"
   ]
  },
  {
   "cell_type": "code",
   "execution_count": 37,
   "id": "fadfa9bb",
   "metadata": {},
   "outputs": [
    {
     "data": {
      "text/html": [
       "<img src onerror=\"var cell = this.closest('.jp-CodeCell');var editor = cell.querySelector('.jp-Editor');editor.style.background='#EAE3D2';this.parentNode.removeChild(this)\" style=\"display:none\">"
      ],
      "text/plain": [
       "<IPython.core.display.HTML object>"
      ]
     },
     "metadata": {},
     "output_type": "display_data"
    },
    {
     "name": "stdout",
     "output_type": "stream",
     "text": [
      " Initialize Snowpark session\n"
     ]
    },
    {
     "data": {
      "text/html": [
       "<div>\n",
       "<style scoped>\n",
       "    .dataframe tbody tr th:only-of-type {\n",
       "        vertical-align: middle;\n",
       "    }\n",
       "\n",
       "    .dataframe tbody tr th {\n",
       "        vertical-align: top;\n",
       "    }\n",
       "\n",
       "    .dataframe thead th {\n",
       "        text-align: right;\n",
       "    }\n",
       "</style>\n",
       "<table border=\"1\" class=\"dataframe\">\n",
       "  <thead>\n",
       "    <tr style=\"text-align: right;\">\n",
       "      <th></th>\n",
       "      <th>CURRENT_WAREHOUSE()</th>\n",
       "      <th>CURRENT_USER()</th>\n",
       "      <th>CURRENT_ROLE()</th>\n",
       "    </tr>\n",
       "  </thead>\n",
       "  <tbody>\n",
       "    <tr>\n",
       "      <th>0</th>\n",
       "      <td>LAB_WH</td>\n",
       "      <td>VSEKAR</td>\n",
       "      <td>DEV_BLOGGER</td>\n",
       "    </tr>\n",
       "  </tbody>\n",
       "</table>\n",
       "</div>"
      ],
      "text/plain": [
       "  CURRENT_WAREHOUSE() CURRENT_USER() CURRENT_ROLE()\n",
       "0              LAB_WH         VSEKAR    DEV_BLOGGER"
      ]
     },
     "metadata": {},
     "output_type": "display_data"
    }
   ],
   "source": [
    "# Initialization\n",
    "set_cell_background('#EAE3D2')\n",
    "\n",
    "config = configparser.ConfigParser()\n",
    "sflk_session = None\n",
    "\n",
    "print(\" Initialize Snowpark session\")\n",
    "with open(CONFIG_FL) as f:\n",
    "    config.read(CONFIG_FL)\n",
    "    snow_conn_flpath =  f\"{PROJECT_HOME_DIR}/{config['DEFAULT']['connection_fl']}\"\n",
    "    \n",
    "    # ------------\n",
    "    # Connect to snowflake\n",
    "    with open(snow_conn_flpath) as conn_f:\n",
    "        snow_conn_info = json.load(conn_f)\n",
    "        sflk_session = Session.builder.configs(snow_conn_info).create()\n",
    "\n",
    "if(sflk_session == None):\n",
    "    raise(f'Unable to connect to snowflake. Validate connection information in file: {CONFIG_FL} ')\n",
    "\n",
    "df = sflk_session.sql('select current_warehouse(), current_user(), current_role();').to_pandas()\n",
    "display(df)"
   ]
  },
  {
   "cell_type": "markdown",
   "id": "4ad79233",
   "metadata": {},
   "source": [
    "---\n",
    "## Train Model\n"
   ]
  },
  {
   "cell_type": "code",
   "execution_count": 38,
   "id": "352c13b6",
   "metadata": {},
   "outputs": [
    {
     "data": {
      "text/html": [
       "<img src onerror=\"var cell = this.closest('.jp-CodeCell');var editor = cell.querySelector('.jp-Editor');editor.style.background='#EAE3D2';this.parentNode.removeChild(this)\" style=\"display:none\">"
      ],
      "text/plain": [
       "<IPython.core.display.HTML object>"
      ]
     },
     "metadata": {},
     "output_type": "display_data"
    },
    {
     "name": "stdout",
     "output_type": "stream",
     "text": [
      " Creating table sample to be used for training from table: sensor_measurements_imputed ...\n",
      " Sample record count: 26046\n"
     ]
    },
    {
     "data": {
      "text/html": [
       "<div>\n",
       "<style scoped>\n",
       "    .dataframe tbody tr th:only-of-type {\n",
       "        vertical-align: middle;\n",
       "    }\n",
       "\n",
       "    .dataframe tbody tr th {\n",
       "        vertical-align: top;\n",
       "    }\n",
       "\n",
       "    .dataframe thead th {\n",
       "        text-align: right;\n",
       "    }\n",
       "</style>\n",
       "<table border=\"1\" class=\"dataframe\">\n",
       "  <thead>\n",
       "    <tr style=\"text-align: right;\">\n",
       "      <th></th>\n",
       "      <th>CO2</th>\n",
       "      <th>HUMIDITY</th>\n",
       "      <th>LIGHT</th>\n",
       "      <th>TEMPERATURE</th>\n",
       "      <th>OCCUPIED</th>\n",
       "    </tr>\n",
       "  </thead>\n",
       "  <tbody>\n",
       "    <tr>\n",
       "      <th>0</th>\n",
       "      <td>566.0</td>\n",
       "      <td>48.12</td>\n",
       "      <td>94.0</td>\n",
       "      <td>24.36</td>\n",
       "      <td>0</td>\n",
       "    </tr>\n",
       "    <tr>\n",
       "      <th>1</th>\n",
       "      <td>576.0</td>\n",
       "      <td>48.12</td>\n",
       "      <td>94.0</td>\n",
       "      <td>24.36</td>\n",
       "      <td>0</td>\n",
       "    </tr>\n",
       "    <tr>\n",
       "      <th>2</th>\n",
       "      <td>560.0</td>\n",
       "      <td>48.12</td>\n",
       "      <td>94.0</td>\n",
       "      <td>24.36</td>\n",
       "      <td>0</td>\n",
       "    </tr>\n",
       "  </tbody>\n",
       "</table>\n",
       "</div>"
      ],
      "text/plain": [
       "     CO2  HUMIDITY  LIGHT  TEMPERATURE  OCCUPIED\n",
       "0  566.0     48.12   94.0        24.36         0\n",
       "1  576.0     48.12   94.0        24.36         0\n",
       "2  560.0     48.12   94.0        24.36         0"
      ]
     },
     "metadata": {},
     "output_type": "display_data"
    }
   ],
   "source": [
    "# Perform model training\n",
    "set_cell_background('#EAE3D2')\n",
    "\n",
    "import pandas as pd\n",
    "\n",
    "target_db = config['DEFAULT']['db']\n",
    "target_schema = config['DEFAULT']['sch']\n",
    "stage = config['DEFAULT']['stage']\n",
    "imputed_table = config['DEFAULT']['sensor_measurements_imputed_table']\n",
    "\n",
    "print(f' Creating table sample to be used for training from table: {imputed_table} ...')\n",
    "imputed_table_pddf = sflk_session.table(f'{target_db}.{target_schema}.{imputed_table}') \n",
    "\n",
    "# Project only columns that are of value\n",
    "imputed_table_pddf = imputed_table_pddf.select(col('CO2') ,col('HUMIDITY') ,col('LIGHT') ,col('TEMPERATURE') ,col('OCCUPIED'))\n",
    "\n",
    "# Sample the data\n",
    "SAMPLE_SEED = 73\n",
    "SAMPLE_PERCENTAGE = 0.1 \n",
    "imputed_table_sample_pddf = imputed_table_pddf.sample(SAMPLE_PERCENTAGE)\n",
    "\n",
    "# Convert to pandas\n",
    "imputed_table_sample_pddf = imputed_table_sample_pddf.to_pandas()\n",
    "print(f' Sample record count: {len(imputed_table_sample_pddf)}')\n",
    "\n",
    "display(imputed_table_sample_pddf[0:3])"
   ]
  },
  {
   "cell_type": "code",
   "execution_count": 39,
   "id": "7e7f4aa7",
   "metadata": {},
   "outputs": [
    {
     "data": {
      "text/html": [
       "<img src onerror=\"var cell = this.closest('.jp-CodeCell');var editor = cell.querySelector('.jp-Editor');editor.style.background='#EAE3D2';this.parentNode.removeChild(this)\" style=\"display:none\">"
      ],
      "text/plain": [
       "<IPython.core.display.HTML object>"
      ]
     },
     "metadata": {},
     "output_type": "display_data"
    },
    {
     "name": "stdout",
     "output_type": "stream",
     "text": [
      " Split the dataset into train and test\n",
      " Training data size: 20836\n",
      " Testing data size: 5210\n"
     ]
    }
   ],
   "source": [
    "# Train and test data split\n",
    "set_cell_background('#EAE3D2')\n",
    "\n",
    "print(' Split the dataset into train and test')\n",
    "\n",
    "from sklearn.model_selection import train_test_split\n",
    "train_df, test_df = train_test_split(imputed_table_sample_pddf, test_size=0.2)\n",
    "\n",
    "print(f' Training data size: {len(train_df)}')\n",
    "print(f' Testing data size: {len(test_df)}')"
   ]
  },
  {
   "cell_type": "code",
   "execution_count": 40,
   "id": "8e5e4a25",
   "metadata": {},
   "outputs": [
    {
     "data": {
      "text/html": [
       "<img src onerror=\"var cell = this.closest('.jp-CodeCell');var editor = cell.querySelector('.jp-Editor');editor.style.background='#EAE3D2';this.parentNode.removeChild(this)\" style=\"display:none\">"
      ],
      "text/plain": [
       "<IPython.core.display.HTML object>"
      ]
     },
     "metadata": {},
     "output_type": "display_data"
    },
    {
     "name": "stdout",
     "output_type": "stream",
     "text": [
      " Train ... \n"
     ]
    }
   ],
   "source": [
    "set_cell_background('#EAE3D2')\n",
    "\n",
    "from autogluon.tabular import TabularDataset, TabularPredictor\n",
    "\n",
    "print(\" Train ... \")\n",
    "\n",
    "model_dir_path=f'{LOCAL_TEMP_DIR}/model'\n",
    "\n",
    "# The Label column that indicates the class to predict\n",
    "label_col = 'OCCUPIED'"
   ]
  },
  {
   "cell_type": "markdown",
   "id": "e1a52cbc-d7a2-4a2a-bbfa-7b5043509658",
   "metadata": {},
   "source": [
    "\n",
    "Model training is done in the context of Snowpark, executing outside of secure snowflake environment.\n",
    "Meaning I did not have this done using stored-procedures though. The reasons are:\n",
    "- __Secured managed space:__ As part of training, AutoGluon would tend to download various algorithms or packages\n",
    "    for eX: pytorch ,fastai ,catboost etc.. to name a few from the internet. Hence network connection\n",
    "    is needed to achieve this. \n",
    "    \n",
    "    Python stored-procedures run in a secure environment and there is no network connectivity to outside world. Hence\n",
    "    implementation using stored-procedure is not possible."
   ]
  },
  {
   "cell_type": "code",
   "execution_count": 41,
   "id": "5c1ad3e6",
   "metadata": {},
   "outputs": [
    {
     "data": {
      "text/html": [
       "<img src onerror=\"var cell = this.closest('.jp-CodeCell');var editor = cell.querySelector('.jp-Editor');editor.style.background='#EAE3D2';this.parentNode.removeChild(this)\" style=\"display:none\">"
      ],
      "text/plain": [
       "<IPython.core.display.HTML object>"
      ]
     },
     "metadata": {},
     "output_type": "display_data"
    },
    {
     "name": "stderr",
     "output_type": "stream",
     "text": [
      "Warning: path already exists! This predictor may overwrite an existing predictor! path=\"../../../temp/model\"\n",
      "Beginning AutoGluon training ...\n",
      "AutoGluon will save models to \"../../../temp/model/\"\n",
      "AutoGluon Version:  0.5.0\n",
      "Python Version:     3.8.13\n",
      "Operating System:   Darwin\n",
      "Train Data Rows:    20836\n",
      "Train Data Columns: 4\n",
      "Label Column: OCCUPIED\n",
      "Preprocessing data ...\n",
      "Train Data Class Count: 3\n",
      "Using Feature Generators to preprocess the data ...\n",
      "Fitting AutoMLPipelineFeatureGenerator...\n",
      "\tAvailable Memory:                    1207.44 MB\n",
      "\tTrain Data (Original)  Memory Usage: 0.67 MB (0.1% of available memory)\n",
      "\tInferring data type of each feature based on column values. Set feature_metadata_in to manually specify special dtypes of the features.\n",
      "\tStage 1 Generators:\n",
      "\t\tFitting AsTypeFeatureGenerator...\n",
      "\tStage 2 Generators:\n",
      "\t\tFitting FillNaFeatureGenerator...\n",
      "\tStage 3 Generators:\n",
      "\t\tFitting IdentityFeatureGenerator...\n",
      "\tStage 4 Generators:\n",
      "\t\tFitting DropUniqueFeatureGenerator...\n",
      "\tTypes of features in original data (raw dtype, special dtypes):\n",
      "\t\t('float', []) : 4 | ['CO2', 'HUMIDITY', 'LIGHT', 'TEMPERATURE']\n",
      "\tTypes of features in processed data (raw dtype, special dtypes):\n",
      "\t\t('float', []) : 4 | ['CO2', 'HUMIDITY', 'LIGHT', 'TEMPERATURE']\n",
      "\t0.0s = Fit runtime\n",
      "\t4 features in original data used to generate 4 features in processed data.\n",
      "\tTrain Data (Processed) Memory Usage: 0.67 MB (0.1% of available memory)\n",
      "Data preprocessing and feature engineering runtime = 0.04s ...\n",
      "AutoGluon will gauge predictive performance using evaluation metric: 'accuracy'\n",
      "\tTo change this, specify the eval_metric parameter of Predictor()\n",
      "Automatically generating train/validation split with holdout_frac=0.1, Train Rows: 18752, Val Rows: 2084\n",
      "Fitting 13 L1 models ...\n",
      "Fitting model: KNeighborsUnif ...\n",
      "\t0.9616\t = Validation score   (accuracy)\n",
      "\t0.01s\t = Training   runtime\n",
      "\t0.01s\t = Validation runtime\n",
      "Fitting model: KNeighborsDist ...\n",
      "\t0.9631\t = Validation score   (accuracy)\n",
      "\t0.01s\t = Training   runtime\n",
      "\t0.01s\t = Validation runtime\n",
      "Fitting model: NeuralNetFastAI ...\n",
      "\t0.9635\t = Validation score   (accuracy)\n",
      "\t15.45s\t = Training   runtime\n",
      "\t0.02s\t = Validation runtime\n",
      "Fitting model: LightGBMXT ...\n",
      "\tWarning: Exception caused LightGBMXT to fail during training (ImportError)... Skipping this model.\n",
      "\t\t`import lightgbm` failed. If you are using Mac OSX, Please try 'brew install libomp'. Detailed info: dlopen(/Users/vsekar/opt/anaconda3/envs/snowpark_07/lib/python3.8/site-packages/lightgbm/lib_lightgbm.so, 0x0006): Library not loaded: '/usr/local/opt/libomp/lib/libomp.dylib'\n",
      "  Referenced from: '/Users/vsekar/opt/anaconda3/envs/snowpark_07/lib/python3.8/site-packages/lightgbm/lib_lightgbm.so'\n",
      "  Reason: tried: '/usr/local/opt/libomp/lib/libomp.dylib' (no such file), '/usr/local/lib/libomp.dylib' (no such file), '/usr/lib/libomp.dylib' (no such file)\n",
      "Fitting model: LightGBM ...\n",
      "\tWarning: Exception caused LightGBM to fail during training (ImportError)... Skipping this model.\n",
      "\t\t`import lightgbm` failed. If you are using Mac OSX, Please try 'brew install libomp'. Detailed info: dlopen(/Users/vsekar/opt/anaconda3/envs/snowpark_07/lib/python3.8/site-packages/lightgbm/lib_lightgbm.so, 0x0006): Library not loaded: '/usr/local/opt/libomp/lib/libomp.dylib'\n",
      "  Referenced from: '/Users/vsekar/opt/anaconda3/envs/snowpark_07/lib/python3.8/site-packages/lightgbm/lib_lightgbm.so'\n",
      "  Reason: tried: '/usr/local/opt/libomp/lib/libomp.dylib' (no such file), '/usr/local/lib/libomp.dylib' (no such file), '/usr/lib/libomp.dylib' (no such file)\n",
      "Fitting model: RandomForestGini ...\n",
      "\t0.9808\t = Validation score   (accuracy)\n",
      "\t0.54s\t = Training   runtime\n",
      "\t0.05s\t = Validation runtime\n",
      "Fitting model: RandomForestEntr ...\n",
      "\t0.9808\t = Validation score   (accuracy)\n",
      "\t0.51s\t = Training   runtime\n",
      "\t0.05s\t = Validation runtime\n",
      "Fitting model: CatBoost ...\n",
      "\t0.9818\t = Validation score   (accuracy)\n",
      "\t6.66s\t = Training   runtime\n",
      "\t0.0s\t = Validation runtime\n",
      "Fitting model: ExtraTreesGini ...\n",
      "\t0.9803\t = Validation score   (accuracy)\n",
      "\t0.44s\t = Training   runtime\n",
      "\t0.05s\t = Validation runtime\n",
      "Fitting model: ExtraTreesEntr ...\n",
      "\t0.9803\t = Validation score   (accuracy)\n",
      "\t0.43s\t = Training   runtime\n",
      "\t0.05s\t = Validation runtime\n",
      "Fitting model: XGBoost ...\n",
      "\tWarning: Exception caused XGBoost to fail during training... Skipping this model.\n",
      "\t\tXGBoost Library (libxgboost.dylib) could not be loaded.\n",
      "Likely causes:\n",
      "  * OpenMP runtime is not installed (vcomp140.dll or libgomp-1.dll for Windows, libomp.dylib for Mac OSX, libgomp.so for Linux and other UNIX-like OSes). Mac OSX users: Run `brew install libomp` to install OpenMP runtime.\n",
      "  * You are running 32-bit Python on a 64-bit OS\n",
      "Error message(s): [\"dlopen(/Users/vsekar/opt/anaconda3/envs/snowpark_07/lib/python3.8/site-packages/xgboost/lib/libxgboost.dylib, 0x0006): Library not loaded: '/usr/local/opt/libomp/lib/libomp.dylib'\\n  Referenced from: '/Users/vsekar/opt/anaconda3/envs/snowpark_07/lib/python3.8/site-packages/xgboost/lib/libxgboost.dylib'\\n  Reason: tried: '/usr/local/opt/libomp/lib/libomp.dylib' (no such file), '/usr/local/lib/libomp.dylib' (no such file), '/usr/lib/libomp.dylib' (no such file)\"]\n",
      "\n",
      "Detailed Traceback:\n",
      "Traceback (most recent call last):\n",
      "  File \"/Users/vsekar/opt/anaconda3/envs/snowpark_07/lib/python3.8/site-packages/autogluon/core/trainer/abstract_trainer.py\", line 1086, in _train_and_save\n",
      "    model = self._train_single(X, y, model, X_val, y_val, **model_fit_kwargs)\n",
      "  File \"/Users/vsekar/opt/anaconda3/envs/snowpark_07/lib/python3.8/site-packages/autogluon/core/trainer/abstract_trainer.py\", line 1044, in _train_single\n",
      "    model = model.fit(X=X, y=y, X_val=X_val, y_val=y_val, **model_fit_kwargs)\n",
      "  File \"/Users/vsekar/opt/anaconda3/envs/snowpark_07/lib/python3.8/site-packages/autogluon/core/models/abstract/abstract_model.py\", line 579, in fit\n",
      "    out = self._fit(**kwargs)\n",
      "  File \"/Users/vsekar/opt/anaconda3/envs/snowpark_07/lib/python3.8/site-packages/autogluon/tabular/models/xgboost/xgboost_model.py\", line 121, in _fit\n",
      "    try_import_xgboost()\n",
      "  File \"/Users/vsekar/opt/anaconda3/envs/snowpark_07/lib/python3.8/site-packages/autogluon/core/utils/try_import.py\", line 167, in try_import_xgboost\n",
      "    import xgboost\n",
      "  File \"/Users/vsekar/opt/anaconda3/envs/snowpark_07/lib/python3.8/site-packages/xgboost/__init__.py\", line 9, in <module>\n",
      "    from .core import DMatrix, DeviceQuantileDMatrix, Booster\n",
      "  File \"/Users/vsekar/opt/anaconda3/envs/snowpark_07/lib/python3.8/site-packages/xgboost/core.py\", line 195, in <module>\n",
      "    _LIB = _load_lib()\n",
      "  File \"/Users/vsekar/opt/anaconda3/envs/snowpark_07/lib/python3.8/site-packages/xgboost/core.py\", line 178, in _load_lib\n",
      "    raise XGBoostError(\n",
      "xgboost.core.XGBoostError: XGBoost Library (libxgboost.dylib) could not be loaded.\n",
      "Likely causes:\n",
      "  * OpenMP runtime is not installed (vcomp140.dll or libgomp-1.dll for Windows, libomp.dylib for Mac OSX, libgomp.so for Linux and other UNIX-like OSes). Mac OSX users: Run `brew install libomp` to install OpenMP runtime.\n",
      "  * You are running 32-bit Python on a 64-bit OS\n",
      "Error message(s): [\"dlopen(/Users/vsekar/opt/anaconda3/envs/snowpark_07/lib/python3.8/site-packages/xgboost/lib/libxgboost.dylib, 0x0006): Library not loaded: '/usr/local/opt/libomp/lib/libomp.dylib'\\n  Referenced from: '/Users/vsekar/opt/anaconda3/envs/snowpark_07/lib/python3.8/site-packages/xgboost/lib/libxgboost.dylib'\\n  Reason: tried: '/usr/local/opt/libomp/lib/libomp.dylib' (no such file), '/usr/local/lib/libomp.dylib' (no such file), '/usr/lib/libomp.dylib' (no such file)\"]\n",
      "\n",
      "Fitting model: NeuralNetTorch ...\n",
      "\t0.976\t = Validation score   (accuracy)\n",
      "\t33.39s\t = Training   runtime\n",
      "\t0.02s\t = Validation runtime\n",
      "Fitting model: LightGBMLarge ...\n",
      "\tWarning: Exception caused LightGBMLarge to fail during training (ImportError)... Skipping this model.\n",
      "\t\t`import lightgbm` failed. If you are using Mac OSX, Please try 'brew install libomp'. Detailed info: dlopen(/Users/vsekar/opt/anaconda3/envs/snowpark_07/lib/python3.8/site-packages/lightgbm/lib_lightgbm.so, 0x0006): Library not loaded: '/usr/local/opt/libomp/lib/libomp.dylib'\n",
      "  Referenced from: '/Users/vsekar/opt/anaconda3/envs/snowpark_07/lib/python3.8/site-packages/lightgbm/lib_lightgbm.so'\n",
      "  Reason: tried: '/usr/local/opt/libomp/lib/libomp.dylib' (no such file), '/usr/local/lib/libomp.dylib' (no such file), '/usr/lib/libomp.dylib' (no such file)\n",
      "Fitting model: WeightedEnsemble_L2 ...\n",
      "\t0.9818\t = Validation score   (accuracy)\n",
      "\t0.17s\t = Training   runtime\n",
      "\t0.0s\t = Validation runtime\n",
      "AutoGluon training complete, total runtime = 58.47s ... Best model: \"WeightedEnsemble_L2\"\n",
      "TabularPredictor saved. To load, use: predictor = TabularPredictor.load(\"../../../temp/model/\")\n"
     ]
    }
   ],
   "source": [
    "set_cell_background('#EAE3D2')\n",
    "\n",
    "train_ds = TabularDataset(train_df)\n",
    "predictor = TabularPredictor(label=label_col ,path=model_dir_path ,problem_type='multiclass').fit(train_data=train_ds)"
   ]
  },
  {
   "cell_type": "markdown",
   "id": "26fd9635-c38b-464a-b668-25f8fa13d7ba",
   "metadata": {},
   "source": [
    "#### Analyze predictions"
   ]
  },
  {
   "cell_type": "code",
   "execution_count": 42,
   "id": "689eb2c1",
   "metadata": {},
   "outputs": [
    {
     "data": {
      "text/html": [
       "<img src onerror=\"var cell = this.closest('.jp-CodeCell');var editor = cell.querySelector('.jp-Editor');editor.style.background='#EAE3D2';this.parentNode.removeChild(this)\" style=\"display:none\">"
      ],
      "text/plain": [
       "<IPython.core.display.HTML object>"
      ]
     },
     "metadata": {},
     "output_type": "display_data"
    },
    {
     "name": "stdout",
     "output_type": "stream",
     "text": [
      " AutoGluon infers problem type is:  multiclass\n",
      " AutoGluon identified the following types of features:\n",
      "('float', []) : 4 | ['CO2', 'HUMIDITY', 'LIGHT', 'TEMPERATURE']\n",
      " List of models determined:\n"
     ]
    },
    {
     "data": {
      "text/plain": [
       "['KNeighborsUnif',\n",
       " 'KNeighborsDist',\n",
       " 'NeuralNetFastAI',\n",
       " 'RandomForestGini',\n",
       " 'RandomForestEntr',\n",
       " 'CatBoost',\n",
       " 'ExtraTreesGini',\n",
       " 'ExtraTreesEntr',\n",
       " 'NeuralNetTorch',\n",
       " 'WeightedEnsemble_L2']"
      ]
     },
     "execution_count": 42,
     "metadata": {},
     "output_type": "execute_result"
    }
   ],
   "source": [
    "set_cell_background('#EAE3D2')\n",
    "\n",
    "print(\" AutoGluon infers problem type is: \", predictor.problem_type)\n",
    "print(\" AutoGluon identified the following types of features:\")\n",
    "print(predictor.feature_metadata)\n",
    "\n",
    "print(' List of models determined:')\n",
    "predictor.get_model_names()\n",
    "\n",
    "# print(' Fit summary')\n",
    "# results = predictor.fit_summary(show_plot=True)\n",
    "# results"
   ]
  },
  {
   "cell_type": "markdown",
   "id": "b425ad96",
   "metadata": {},
   "source": [
    "---\n",
    "### Local Testing\n",
    "\n",
    "We perform a local testing, using the test data. We also try to understand the best model that was choosen"
   ]
  },
  {
   "cell_type": "code",
   "execution_count": 43,
   "id": "1261ca7e",
   "metadata": {},
   "outputs": [
    {
     "data": {
      "text/html": [
       "<img src onerror=\"var cell = this.closest('.jp-CodeCell');var editor = cell.querySelector('.jp-Editor');editor.style.background='#EAE3D2';this.parentNode.removeChild(this)\" style=\"display:none\">"
      ],
      "text/plain": [
       "<IPython.core.display.HTML object>"
      ]
     },
     "metadata": {},
     "output_type": "display_data"
    },
    {
     "data": {
      "text/html": [
       "<div>\n",
       "<style scoped>\n",
       "    .dataframe tbody tr th:only-of-type {\n",
       "        vertical-align: middle;\n",
       "    }\n",
       "\n",
       "    .dataframe tbody tr th {\n",
       "        vertical-align: top;\n",
       "    }\n",
       "\n",
       "    .dataframe thead th {\n",
       "        text-align: right;\n",
       "    }\n",
       "</style>\n",
       "<table border=\"1\" class=\"dataframe\">\n",
       "  <thead>\n",
       "    <tr style=\"text-align: right;\">\n",
       "      <th></th>\n",
       "      <th>CO2</th>\n",
       "      <th>HUMIDITY</th>\n",
       "      <th>LIGHT</th>\n",
       "      <th>TEMPERATURE</th>\n",
       "    </tr>\n",
       "  </thead>\n",
       "  <tbody>\n",
       "    <tr>\n",
       "      <th>9219</th>\n",
       "      <td>473.0</td>\n",
       "      <td>60.77</td>\n",
       "      <td>37.0</td>\n",
       "      <td>22.72</td>\n",
       "    </tr>\n",
       "    <tr>\n",
       "      <th>10235</th>\n",
       "      <td>487.0</td>\n",
       "      <td>59.28</td>\n",
       "      <td>4.0</td>\n",
       "      <td>23.39</td>\n",
       "    </tr>\n",
       "    <tr>\n",
       "      <th>15378</th>\n",
       "      <td>472.0</td>\n",
       "      <td>56.63</td>\n",
       "      <td>19.0</td>\n",
       "      <td>23.30</td>\n",
       "    </tr>\n",
       "    <tr>\n",
       "      <th>6964</th>\n",
       "      <td>476.0</td>\n",
       "      <td>57.53</td>\n",
       "      <td>4.0</td>\n",
       "      <td>23.14</td>\n",
       "    </tr>\n",
       "    <tr>\n",
       "      <th>4238</th>\n",
       "      <td>464.0</td>\n",
       "      <td>52.05</td>\n",
       "      <td>5.0</td>\n",
       "      <td>23.89</td>\n",
       "    </tr>\n",
       "  </tbody>\n",
       "</table>\n",
       "</div>"
      ],
      "text/plain": [
       "         CO2  HUMIDITY  LIGHT  TEMPERATURE\n",
       "9219   473.0     60.77   37.0        22.72\n",
       "10235  487.0     59.28    4.0        23.39\n",
       "15378  472.0     56.63   19.0        23.30\n",
       "6964   476.0     57.53    4.0        23.14\n",
       "4238   464.0     52.05    5.0        23.89"
      ]
     },
     "execution_count": 43,
     "metadata": {},
     "output_type": "execute_result"
    }
   ],
   "source": [
    "set_cell_background('#EAE3D2')\n",
    "\n",
    "test_data = test_df\n",
    "\n",
    "y_test = test_df[label_col]  # values to predict\n",
    "test_data_nolab = test_df.drop(columns=[label_col])  # delete label column to prove we're not cheating\n",
    "test_data_nolab.head()"
   ]
  },
  {
   "cell_type": "code",
   "execution_count": 44,
   "id": "1e6b5450",
   "metadata": {},
   "outputs": [
    {
     "data": {
      "text/html": [
       "<img src onerror=\"var cell = this.closest('.jp-CodeCell');var editor = cell.querySelector('.jp-Editor');editor.style.background='#EAE3D2';this.parentNode.removeChild(this)\" style=\"display:none\">"
      ],
      "text/plain": [
       "<IPython.core.display.HTML object>"
      ]
     },
     "metadata": {},
     "output_type": "display_data"
    },
    {
     "name": "stderr",
     "output_type": "stream",
     "text": [
      "Evaluation: accuracy on test data: 0.9761996161228407\n",
      "Evaluations on test data:\n",
      "{\n",
      "    \"accuracy\": 0.9761996161228407,\n",
      "    \"balanced_accuracy\": 0.9228678874650637,\n",
      "    \"mcc\": 0.8595610132036822\n",
      "}\n"
     ]
    },
    {
     "name": "stdout",
     "output_type": "stream",
     "text": [
      "Predictions:  \n",
      " 9219     0\n",
      "10235    0\n",
      "15378    0\n",
      "6964     0\n",
      "4238     0\n",
      "        ..\n",
      "33       0\n",
      "5433     0\n",
      "12221    0\n",
      "2158     0\n",
      "25883    0\n",
      "Name: OCCUPIED, Length: 5210, dtype: int8\n"
     ]
    }
   ],
   "source": [
    "# Run predictions (Testing)\n",
    "set_cell_background('#EAE3D2')\n",
    "\n",
    "predictor = TabularPredictor.load(model_dir_path)  # unnecessary, just demonstrates how to load previously-trained predictor from file\n",
    "\n",
    "y_pred = predictor.predict(test_data_nolab)\n",
    "\n",
    "# Below for a specific model class predictions\n",
    "# y_pred = predictor.predict(test_data_nolab, model='NeuralNetFastAI')\n",
    "\n",
    "print(\"Predictions:  \\n\", y_pred)\n",
    "perf = predictor.evaluate_predictions(y_true=y_test, y_pred=y_pred, auxiliary_metrics=True)"
   ]
  },
  {
   "cell_type": "code",
   "execution_count": 45,
   "id": "f070fde7",
   "metadata": {},
   "outputs": [
    {
     "data": {
      "text/html": [
       "<img src onerror=\"var cell = this.closest('.jp-CodeCell');var editor = cell.querySelector('.jp-Editor');editor.style.background='#EAE3D2';this.parentNode.removeChild(this)\" style=\"display:none\">"
      ],
      "text/plain": [
       "<IPython.core.display.HTML object>"
      ]
     },
     "metadata": {},
     "output_type": "display_data"
    },
    {
     "data": {
      "text/html": [
       "\n",
       "        <html> <body>\n",
       "        <h4> LeaderBoard </h4>\n",
       "        <pre style=\"background-color:honeydew\">\n",
       "        \n",
       "           The Leaderboard depicts the various models that have been trained and reflects the score. Without\n",
       "           us cofiguring anything, AutoGluon does the heavy lifting of training across multiple AI Algorithms\n",
       "           and determing the best model and its fine tune.\n",
       "       \n",
       "        </pre>\n",
       "        </body> </html>\n",
       "        "
      ],
      "text/plain": [
       "<IPython.core.display.HTML object>"
      ]
     },
     "metadata": {},
     "output_type": "display_data"
    },
    {
     "data": {
      "text/html": [
       "<div>\n",
       "<style scoped>\n",
       "    .dataframe tbody tr th:only-of-type {\n",
       "        vertical-align: middle;\n",
       "    }\n",
       "\n",
       "    .dataframe tbody tr th {\n",
       "        vertical-align: top;\n",
       "    }\n",
       "\n",
       "    .dataframe thead th {\n",
       "        text-align: right;\n",
       "    }\n",
       "</style>\n",
       "<table border=\"1\" class=\"dataframe\">\n",
       "  <thead>\n",
       "    <tr style=\"text-align: right;\">\n",
       "      <th></th>\n",
       "      <th>model</th>\n",
       "      <th>score_test</th>\n",
       "      <th>score_val</th>\n",
       "      <th>pred_time_test</th>\n",
       "      <th>pred_time_val</th>\n",
       "      <th>fit_time</th>\n",
       "      <th>pred_time_test_marginal</th>\n",
       "      <th>pred_time_val_marginal</th>\n",
       "      <th>fit_time_marginal</th>\n",
       "      <th>stack_level</th>\n",
       "      <th>can_infer</th>\n",
       "      <th>fit_order</th>\n",
       "    </tr>\n",
       "  </thead>\n",
       "  <tbody>\n",
       "    <tr>\n",
       "      <th>0</th>\n",
       "      <td>CatBoost</td>\n",
       "      <td>0.976200</td>\n",
       "      <td>0.981766</td>\n",
       "      <td>0.007150</td>\n",
       "      <td>0.003405</td>\n",
       "      <td>6.664951</td>\n",
       "      <td>0.007150</td>\n",
       "      <td>0.003405</td>\n",
       "      <td>6.664951</td>\n",
       "      <td>1</td>\n",
       "      <td>True</td>\n",
       "      <td>6</td>\n",
       "    </tr>\n",
       "    <tr>\n",
       "      <th>1</th>\n",
       "      <td>WeightedEnsemble_L2</td>\n",
       "      <td>0.976200</td>\n",
       "      <td>0.981766</td>\n",
       "      <td>0.008943</td>\n",
       "      <td>0.003674</td>\n",
       "      <td>6.837957</td>\n",
       "      <td>0.001793</td>\n",
       "      <td>0.000269</td>\n",
       "      <td>0.173006</td>\n",
       "      <td>2</td>\n",
       "      <td>True</td>\n",
       "      <td>10</td>\n",
       "    </tr>\n",
       "    <tr>\n",
       "      <th>2</th>\n",
       "      <td>RandomForestGini</td>\n",
       "      <td>0.974856</td>\n",
       "      <td>0.980806</td>\n",
       "      <td>0.070410</td>\n",
       "      <td>0.054479</td>\n",
       "      <td>0.535308</td>\n",
       "      <td>0.070410</td>\n",
       "      <td>0.054479</td>\n",
       "      <td>0.535308</td>\n",
       "      <td>1</td>\n",
       "      <td>True</td>\n",
       "      <td>4</td>\n",
       "    </tr>\n",
       "    <tr>\n",
       "      <th>3</th>\n",
       "      <td>ExtraTreesGini</td>\n",
       "      <td>0.974856</td>\n",
       "      <td>0.980326</td>\n",
       "      <td>0.076176</td>\n",
       "      <td>0.053885</td>\n",
       "      <td>0.435315</td>\n",
       "      <td>0.076176</td>\n",
       "      <td>0.053885</td>\n",
       "      <td>0.435315</td>\n",
       "      <td>1</td>\n",
       "      <td>True</td>\n",
       "      <td>7</td>\n",
       "    </tr>\n",
       "    <tr>\n",
       "      <th>4</th>\n",
       "      <td>ExtraTreesEntr</td>\n",
       "      <td>0.974664</td>\n",
       "      <td>0.980326</td>\n",
       "      <td>0.074220</td>\n",
       "      <td>0.054442</td>\n",
       "      <td>0.429055</td>\n",
       "      <td>0.074220</td>\n",
       "      <td>0.054442</td>\n",
       "      <td>0.429055</td>\n",
       "      <td>1</td>\n",
       "      <td>True</td>\n",
       "      <td>8</td>\n",
       "    </tr>\n",
       "    <tr>\n",
       "      <th>5</th>\n",
       "      <td>RandomForestEntr</td>\n",
       "      <td>0.974280</td>\n",
       "      <td>0.980806</td>\n",
       "      <td>0.069455</td>\n",
       "      <td>0.053326</td>\n",
       "      <td>0.512568</td>\n",
       "      <td>0.069455</td>\n",
       "      <td>0.053326</td>\n",
       "      <td>0.512568</td>\n",
       "      <td>1</td>\n",
       "      <td>True</td>\n",
       "      <td>5</td>\n",
       "    </tr>\n",
       "    <tr>\n",
       "      <th>6</th>\n",
       "      <td>NeuralNetTorch</td>\n",
       "      <td>0.966795</td>\n",
       "      <td>0.976008</td>\n",
       "      <td>0.039586</td>\n",
       "      <td>0.016401</td>\n",
       "      <td>33.392139</td>\n",
       "      <td>0.039586</td>\n",
       "      <td>0.016401</td>\n",
       "      <td>33.392139</td>\n",
       "      <td>1</td>\n",
       "      <td>True</td>\n",
       "      <td>9</td>\n",
       "    </tr>\n",
       "    <tr>\n",
       "      <th>7</th>\n",
       "      <td>KNeighborsDist</td>\n",
       "      <td>0.962956</td>\n",
       "      <td>0.963052</td>\n",
       "      <td>0.013381</td>\n",
       "      <td>0.006718</td>\n",
       "      <td>0.010291</td>\n",
       "      <td>0.013381</td>\n",
       "      <td>0.006718</td>\n",
       "      <td>0.010291</td>\n",
       "      <td>1</td>\n",
       "      <td>True</td>\n",
       "      <td>2</td>\n",
       "    </tr>\n",
       "    <tr>\n",
       "      <th>8</th>\n",
       "      <td>NeuralNetFastAI</td>\n",
       "      <td>0.960269</td>\n",
       "      <td>0.963532</td>\n",
       "      <td>0.049616</td>\n",
       "      <td>0.018089</td>\n",
       "      <td>15.453886</td>\n",
       "      <td>0.049616</td>\n",
       "      <td>0.018089</td>\n",
       "      <td>15.453886</td>\n",
       "      <td>1</td>\n",
       "      <td>True</td>\n",
       "      <td>3</td>\n",
       "    </tr>\n",
       "    <tr>\n",
       "      <th>9</th>\n",
       "      <td>KNeighborsUnif</td>\n",
       "      <td>0.958349</td>\n",
       "      <td>0.961612</td>\n",
       "      <td>0.011861</td>\n",
       "      <td>0.008377</td>\n",
       "      <td>0.011818</td>\n",
       "      <td>0.011861</td>\n",
       "      <td>0.008377</td>\n",
       "      <td>0.011818</td>\n",
       "      <td>1</td>\n",
       "      <td>True</td>\n",
       "      <td>1</td>\n",
       "    </tr>\n",
       "  </tbody>\n",
       "</table>\n",
       "</div>"
      ],
      "text/plain": [
       "                 model  score_test  score_val  pred_time_test  pred_time_val  \\\n",
       "0             CatBoost    0.976200   0.981766        0.007150       0.003405   \n",
       "1  WeightedEnsemble_L2    0.976200   0.981766        0.008943       0.003674   \n",
       "2     RandomForestGini    0.974856   0.980806        0.070410       0.054479   \n",
       "3       ExtraTreesGini    0.974856   0.980326        0.076176       0.053885   \n",
       "4       ExtraTreesEntr    0.974664   0.980326        0.074220       0.054442   \n",
       "5     RandomForestEntr    0.974280   0.980806        0.069455       0.053326   \n",
       "6       NeuralNetTorch    0.966795   0.976008        0.039586       0.016401   \n",
       "7       KNeighborsDist    0.962956   0.963052        0.013381       0.006718   \n",
       "8      NeuralNetFastAI    0.960269   0.963532        0.049616       0.018089   \n",
       "9       KNeighborsUnif    0.958349   0.961612        0.011861       0.008377   \n",
       "\n",
       "    fit_time  pred_time_test_marginal  pred_time_val_marginal  \\\n",
       "0   6.664951                 0.007150                0.003405   \n",
       "1   6.837957                 0.001793                0.000269   \n",
       "2   0.535308                 0.070410                0.054479   \n",
       "3   0.435315                 0.076176                0.053885   \n",
       "4   0.429055                 0.074220                0.054442   \n",
       "5   0.512568                 0.069455                0.053326   \n",
       "6  33.392139                 0.039586                0.016401   \n",
       "7   0.010291                 0.013381                0.006718   \n",
       "8  15.453886                 0.049616                0.018089   \n",
       "9   0.011818                 0.011861                0.008377   \n",
       "\n",
       "   fit_time_marginal  stack_level  can_infer  fit_order  \n",
       "0           6.664951            1       True          6  \n",
       "1           0.173006            2       True         10  \n",
       "2           0.535308            1       True          4  \n",
       "3           0.435315            1       True          7  \n",
       "4           0.429055            1       True          8  \n",
       "5           0.512568            1       True          5  \n",
       "6          33.392139            1       True          9  \n",
       "7           0.010291            1       True          2  \n",
       "8          15.453886            1       True          3  \n",
       "9           0.011818            1       True          1  "
      ]
     },
     "execution_count": 45,
     "metadata": {},
     "output_type": "execute_result"
    }
   ],
   "source": [
    "# Run predictions (Testing)\n",
    "set_cell_background('#EAE3D2')\n",
    "\n",
    "display_code(p_title='LeaderBoard' ,p_background_color='honeydew'\n",
    "       ,p_code=f'''\n",
    "           The Leaderboard depicts the various models that have been trained and reflects the score. Without\n",
    "           us cofiguring anything, AutoGluon does the heavy lifting of training across multiple AI Algorithms\n",
    "           and determing the best model and its fine tune.\n",
    "       ''')\n",
    "\n",
    "predictor.leaderboard(test_data, silent=True)\n",
    "# predictor.get_model_names()"
   ]
  },
  {
   "cell_type": "code",
   "execution_count": 46,
   "id": "c8d61087",
   "metadata": {},
   "outputs": [
    {
     "data": {
      "text/html": [
       "<img src onerror=\"var cell = this.closest('.jp-CodeCell');var editor = cell.querySelector('.jp-Editor');editor.style.background='#EAE3D2';this.parentNode.removeChild(this)\" style=\"display:none\">"
      ],
      "text/plain": [
       "<IPython.core.display.HTML object>"
      ]
     },
     "metadata": {},
     "output_type": "display_data"
    },
    {
     "name": "stdout",
     "output_type": "stream",
     "text": [
      " Sample records of predicted class vs actual value (OCCUPIED)\n"
     ]
    },
    {
     "data": {
      "text/html": [
       "<div>\n",
       "<style scoped>\n",
       "    .dataframe tbody tr th:only-of-type {\n",
       "        vertical-align: middle;\n",
       "    }\n",
       "\n",
       "    .dataframe tbody tr th {\n",
       "        vertical-align: top;\n",
       "    }\n",
       "\n",
       "    .dataframe thead th {\n",
       "        text-align: right;\n",
       "    }\n",
       "</style>\n",
       "<table border=\"1\" class=\"dataframe\">\n",
       "  <thead>\n",
       "    <tr style=\"text-align: right;\">\n",
       "      <th></th>\n",
       "      <th>CO2</th>\n",
       "      <th>HUMIDITY</th>\n",
       "      <th>LIGHT</th>\n",
       "      <th>TEMPERATURE</th>\n",
       "      <th>OCCUPIED</th>\n",
       "      <th>predicted_class</th>\n",
       "      <th>not_match</th>\n",
       "    </tr>\n",
       "  </thead>\n",
       "  <tbody>\n",
       "    <tr>\n",
       "      <th>9219</th>\n",
       "      <td>473.0</td>\n",
       "      <td>60.77</td>\n",
       "      <td>37.0</td>\n",
       "      <td>22.72</td>\n",
       "      <td>0</td>\n",
       "      <td>0</td>\n",
       "      <td>False</td>\n",
       "    </tr>\n",
       "    <tr>\n",
       "      <th>10235</th>\n",
       "      <td>487.0</td>\n",
       "      <td>59.28</td>\n",
       "      <td>4.0</td>\n",
       "      <td>23.39</td>\n",
       "      <td>0</td>\n",
       "      <td>0</td>\n",
       "      <td>False</td>\n",
       "    </tr>\n",
       "    <tr>\n",
       "      <th>15378</th>\n",
       "      <td>472.0</td>\n",
       "      <td>56.63</td>\n",
       "      <td>19.0</td>\n",
       "      <td>23.30</td>\n",
       "      <td>0</td>\n",
       "      <td>0</td>\n",
       "      <td>False</td>\n",
       "    </tr>\n",
       "  </tbody>\n",
       "</table>\n",
       "</div>"
      ],
      "text/plain": [
       "         CO2  HUMIDITY  LIGHT  TEMPERATURE  OCCUPIED  predicted_class  \\\n",
       "9219   473.0     60.77   37.0        22.72         0                0   \n",
       "10235  487.0     59.28    4.0        23.39         0                0   \n",
       "15378  472.0     56.63   19.0        23.30         0                0   \n",
       "\n",
       "       not_match  \n",
       "9219       False  \n",
       "10235      False  \n",
       "15378      False  "
      ]
     },
     "metadata": {},
     "output_type": "display_data"
    }
   ],
   "source": [
    "set_cell_background('#EAE3D2')\n",
    "\n",
    "import pandas as pd\n",
    "\n",
    "predicted_df  = pd.Series(y_pred, name='predicted_class')\n",
    "df = test_df.merge(predicted_df,left_index=True, right_index=True)\n",
    "\n",
    "# proj_df = proj_df.copy()\n",
    "df['not_match'] = df.apply(lambda x: x.OCCUPIED != x.predicted_class, axis=1)\n",
    "\n",
    "print(' Sample records of predicted class vs actual value (OCCUPIED)')\n",
    "display(df[0:3])"
   ]
  },
  {
   "cell_type": "code",
   "execution_count": 47,
   "id": "388db1e1",
   "metadata": {},
   "outputs": [
    {
     "data": {
      "text/html": [
       "<img src onerror=\"var cell = this.closest('.jp-CodeCell');var editor = cell.querySelector('.jp-Editor');editor.style.background='#EAE3D2';this.parentNode.removeChild(this)\" style=\"display:none\">"
      ],
      "text/plain": [
       "<IPython.core.display.HTML object>"
      ]
     },
     "metadata": {},
     "output_type": "display_data"
    },
    {
     "name": "stdout",
     "output_type": "stream",
     "text": [
      "No of records that did not match: 124 / 5210 :: 2.380038387715931%\n"
     ]
    },
    {
     "data": {
      "text/html": [
       "<div>\n",
       "<style scoped>\n",
       "    .dataframe tbody tr th:only-of-type {\n",
       "        vertical-align: middle;\n",
       "    }\n",
       "\n",
       "    .dataframe tbody tr th {\n",
       "        vertical-align: top;\n",
       "    }\n",
       "\n",
       "    .dataframe thead th {\n",
       "        text-align: right;\n",
       "    }\n",
       "</style>\n",
       "<table border=\"1\" class=\"dataframe\">\n",
       "  <thead>\n",
       "    <tr style=\"text-align: right;\">\n",
       "      <th></th>\n",
       "      <th>CO2</th>\n",
       "      <th>HUMIDITY</th>\n",
       "      <th>LIGHT</th>\n",
       "      <th>TEMPERATURE</th>\n",
       "      <th>OCCUPIED</th>\n",
       "      <th>predicted_class</th>\n",
       "      <th>not_match</th>\n",
       "    </tr>\n",
       "  </thead>\n",
       "  <tbody>\n",
       "    <tr>\n",
       "      <th>14120</th>\n",
       "      <td>483.0</td>\n",
       "      <td>54.76</td>\n",
       "      <td>20.0</td>\n",
       "      <td>22.66</td>\n",
       "      <td>1</td>\n",
       "      <td>0</td>\n",
       "      <td>True</td>\n",
       "    </tr>\n",
       "    <tr>\n",
       "      <th>1861</th>\n",
       "      <td>467.0</td>\n",
       "      <td>49.23</td>\n",
       "      <td>126.0</td>\n",
       "      <td>24.75</td>\n",
       "      <td>1</td>\n",
       "      <td>0</td>\n",
       "      <td>True</td>\n",
       "    </tr>\n",
       "    <tr>\n",
       "      <th>14067</th>\n",
       "      <td>476.0</td>\n",
       "      <td>54.76</td>\n",
       "      <td>20.0</td>\n",
       "      <td>22.66</td>\n",
       "      <td>1</td>\n",
       "      <td>0</td>\n",
       "      <td>True</td>\n",
       "    </tr>\n",
       "    <tr>\n",
       "      <th>13963</th>\n",
       "      <td>460.0</td>\n",
       "      <td>53.16</td>\n",
       "      <td>18.0</td>\n",
       "      <td>22.59</td>\n",
       "      <td>1</td>\n",
       "      <td>0</td>\n",
       "      <td>True</td>\n",
       "    </tr>\n",
       "    <tr>\n",
       "      <th>8611</th>\n",
       "      <td>476.0</td>\n",
       "      <td>59.65</td>\n",
       "      <td>18.0</td>\n",
       "      <td>23.36</td>\n",
       "      <td>1</td>\n",
       "      <td>0</td>\n",
       "      <td>True</td>\n",
       "    </tr>\n",
       "  </tbody>\n",
       "</table>\n",
       "</div>"
      ],
      "text/plain": [
       "         CO2  HUMIDITY  LIGHT  TEMPERATURE  OCCUPIED  predicted_class  \\\n",
       "14120  483.0     54.76   20.0        22.66         1                0   \n",
       "1861   467.0     49.23  126.0        24.75         1                0   \n",
       "14067  476.0     54.76   20.0        22.66         1                0   \n",
       "13963  460.0     53.16   18.0        22.59         1                0   \n",
       "8611   476.0     59.65   18.0        23.36         1                0   \n",
       "\n",
       "       not_match  \n",
       "14120       True  \n",
       "1861        True  \n",
       "14067       True  \n",
       "13963       True  \n",
       "8611        True  "
      ]
     },
     "metadata": {},
     "output_type": "display_data"
    }
   ],
   "source": [
    "set_cell_background('#EAE3D2')\n",
    "\n",
    "notmatched_df = df[df.not_match == True]\n",
    "notmatched_total = len(notmatched_df)\n",
    "total_count = len(df)\n",
    "percentageof_mismatch = (notmatched_total*100)/total_count\n",
    "print(f'No of records that did not match: {notmatched_total} / {total_count} :: {percentageof_mismatch}%')\n",
    "\n",
    "display(notmatched_df[0:5])"
   ]
  },
  {
   "cell_type": "markdown",
   "id": "444919ca",
   "metadata": {},
   "source": [
    "---\n",
    "## Package and Stage model\n",
    "\n",
    "Now that training has been done. We save the model into an archive and upload the same to\n",
    "the internal stage."
   ]
  },
  {
   "cell_type": "code",
   "execution_count": 48,
   "id": "c1c82aa6",
   "metadata": {},
   "outputs": [
    {
     "data": {
      "text/html": [
       "<img src onerror=\"var cell = this.closest('.jp-CodeCell');var editor = cell.querySelector('.jp-Editor');editor.style.background='#EAE3D2';this.parentNode.removeChild(this)\" style=\"display:none\">"
      ],
      "text/plain": [
       "<IPython.core.display.HTML object>"
      ]
     },
     "metadata": {},
     "output_type": "display_data"
    },
    {
     "name": "stdout",
     "output_type": "stream",
     "text": [
      " Packaging the model as: ../../../temp/model_lib/room_occupancy_autogluon_model.tar.gz\n",
      " Uploading library to stage: sflk_autogluon_db.public.lib_data_stg \n",
      "    ../../../temp/model_lib/room_occupancy_autogluon_model.tar.gz => @lib_data_stg/ag_models/\n"
     ]
    }
   ],
   "source": [
    "# Package and upload model to stage\n",
    "set_cell_background('#EAE3D2')\n",
    "\n",
    "import tarfile\n",
    "import os.path\n",
    "from pathlib import Path\n",
    "\n",
    "# Create a local directory to store data, library etc..\n",
    "model_lib_dir = f'''{LOCAL_TEMP_DIR}/model_lib'''\n",
    "Path(model_lib_dir).mkdir(parents=True, exist_ok=True)\n",
    "    \n",
    "model_packed_filename=f'''{model_lib_dir}/{config['DEFAULT']['ag_model_archive']}'''\n",
    "print(f' Packaging the model as: {model_packed_filename}')\n",
    "with tarfile.open(model_packed_filename, \"w:gz\") as tar:\n",
    "    tar.add(model_dir_path, arcname=os.path.basename(model_dir_path))\n",
    "\n",
    "# Upload the packaged model to stage\n",
    "stage_models_dir = config['DEFAULT']['stage_models_dir']\n",
    "upload_locallibraries_to_p_stage(sflk_session ,model_lib_dir ,target_db ,target_schema ,stage ,stage_models_dir)"
   ]
  },
  {
   "cell_type": "code",
   "execution_count": 49,
   "id": "a7b92fda",
   "metadata": {},
   "outputs": [
    {
     "data": {
      "text/html": [
       "<img src onerror=\"var cell = this.closest('.jp-CodeCell');var editor = cell.querySelector('.jp-Editor');editor.style.background='#EAE3D2';this.parentNode.removeChild(this)\" style=\"display:none\">"
      ],
      "text/plain": [
       "<IPython.core.display.HTML object>"
      ]
     },
     "metadata": {},
     "output_type": "display_data"
    },
    {
     "name": "stdout",
     "output_type": "stream",
     "text": [
      " List stage directory !!\n"
     ]
    },
    {
     "data": {
      "text/html": [
       "<div>\n",
       "<style scoped>\n",
       "    .dataframe tbody tr th:only-of-type {\n",
       "        vertical-align: middle;\n",
       "    }\n",
       "\n",
       "    .dataframe tbody tr th {\n",
       "        vertical-align: top;\n",
       "    }\n",
       "\n",
       "    .dataframe thead th {\n",
       "        text-align: right;\n",
       "    }\n",
       "</style>\n",
       "<table border=\"1\" class=\"dataframe\">\n",
       "  <thead>\n",
       "    <tr style=\"text-align: right;\">\n",
       "      <th></th>\n",
       "      <th>RELATIVE_PATH</th>\n",
       "    </tr>\n",
       "  </thead>\n",
       "  <tbody>\n",
       "    <tr>\n",
       "      <th>0</th>\n",
       "      <td>ag_models/room_occupancy_autogluon_model.tar.gz</td>\n",
       "    </tr>\n",
       "    <tr>\n",
       "      <th>1</th>\n",
       "      <td>libs/autogluon-0.5.2-py3-none-any.whl</td>\n",
       "    </tr>\n",
       "    <tr>\n",
       "      <th>2</th>\n",
       "      <td>libs/autogluon.common-0.5.2-py3-none-any.whl</td>\n",
       "    </tr>\n",
       "    <tr>\n",
       "      <th>3</th>\n",
       "      <td>libs/autogluon.core-0.5.2-py3-none-any.whl</td>\n",
       "    </tr>\n",
       "    <tr>\n",
       "      <th>4</th>\n",
       "      <td>libs/autogluon.extra-0.3.1-py3-none-any.whl</td>\n",
       "    </tr>\n",
       "    <tr>\n",
       "      <th>5</th>\n",
       "      <td>libs/autogluon.features-0.5.2-py3-none-any.whl</td>\n",
       "    </tr>\n",
       "    <tr>\n",
       "      <th>6</th>\n",
       "      <td>libs/autogluon.multimodal-0.5.2-py3-none-any.whl</td>\n",
       "    </tr>\n",
       "    <tr>\n",
       "      <th>7</th>\n",
       "      <td>libs/autogluon.tabular-0.5.2-py3-none-any.whl</td>\n",
       "    </tr>\n",
       "  </tbody>\n",
       "</table>\n",
       "</div>"
      ],
      "text/plain": [
       "                                      RELATIVE_PATH\n",
       "0   ag_models/room_occupancy_autogluon_model.tar.gz\n",
       "1             libs/autogluon-0.5.2-py3-none-any.whl\n",
       "2      libs/autogluon.common-0.5.2-py3-none-any.whl\n",
       "3        libs/autogluon.core-0.5.2-py3-none-any.whl\n",
       "4       libs/autogluon.extra-0.3.1-py3-none-any.whl\n",
       "5    libs/autogluon.features-0.5.2-py3-none-any.whl\n",
       "6  libs/autogluon.multimodal-0.5.2-py3-none-any.whl\n",
       "7     libs/autogluon.tabular-0.5.2-py3-none-any.whl"
      ]
     },
     "metadata": {},
     "output_type": "display_data"
    }
   ],
   "source": [
    "set_cell_background('#EAE3D2')\n",
    "\n",
    "print(' List stage directory !!')\n",
    "sflk_session.sql(f'alter stage {target_db}.{target_schema}.{stage} refresh; ').collect()\n",
    "\n",
    "df = sflk_session.sql(f'select RELATIVE_PATH from directory(@{target_db}.{target_schema}.{stage}); ').to_pandas()\n",
    "display(df)"
   ]
  },
  {
   "cell_type": "markdown",
   "id": "0ff35858-91cf-4ad1-a361-37a161b37539",
   "metadata": {},
   "source": [
    "---\n",
    "### Close out\n",
    "\n",
    "    With that we are finished this section of the demo setup"
   ]
  },
  {
   "cell_type": "code",
   "execution_count": 50,
   "id": "cf34e465-233f-4b98-abd6-25bbc4efe604",
   "metadata": {},
   "outputs": [
    {
     "name": "stdout",
     "output_type": "stream",
     "text": [
      "Finished!!!\n"
     ]
    }
   ],
   "source": [
    "sflk_session.close()\n",
    "print('Finished!!!')"
   ]
  }
 ],
 "metadata": {
  "kernelspec": {
   "display_name": "Python 3 (ipykernel)",
   "language": "python",
   "name": "python3"
  },
  "language_info": {
   "codemirror_mode": {
    "name": "ipython",
    "version": 3
   },
   "file_extension": ".py",
   "mimetype": "text/x-python",
   "name": "python",
   "nbconvert_exporter": "python",
   "pygments_lexer": "ipython3",
   "version": "3.8.13"
  },
  "vscode": {
   "interpreter": {
    "hash": "d9f98284b1b77effdad8e825a9416e70aada8c9b829685ab62b26245ff3dd3a0"
   }
  }
 },
 "nbformat": 4,
 "nbformat_minor": 5
}
