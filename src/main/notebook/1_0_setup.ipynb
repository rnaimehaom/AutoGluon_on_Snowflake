{
 "cells": [
  {
   "cell_type": "markdown",
   "id": "e4022bce",
   "metadata": {},
   "source": [
    "# Step 1.0 Setup\n",
    "\n",
    "We define the various basic assets, which are used in the demo. These assets are:\n",
    " - Database\n",
    " - Stages (internal)\n",
    "\n",
    "It is expected that the snowflake role has the following grants:\n",
    " - Ability to create database/schema/stage\n",
    "  \n",
    "### Query\n",
    "Q: Can I use an existing database/schema for executing this demo ?\n",
    "\n",
    "    A: Yes, in such cases you can skip this notebook. Ensure to update\n",
    "        the various configurations in the file 'config.ini'"
   ]
  },
  {
   "cell_type": "code",
   "execution_count": 1,
   "id": "4f152540",
   "metadata": {},
   "outputs": [],
   "source": [
    "from IPython.display import display, HTML, Image , Markdown\n",
    "from snowflake.snowpark.session import Session\n",
    "# from snowflake.snowpark.types import * \n",
    "# from snowflake.snowpark.functions import *\n",
    "import os ,configparser ,json\n",
    "\n",
    "PROJECT_HOME_DIR = '../../..'\n",
    "CONFIG_FL = f'{PROJECT_HOME_DIR}/config.ini'\n",
    "\n",
    "# Source various helper functions\n",
    "%run ./scripts/notebook_helpers.py"
   ]
  },
  {
   "cell_type": "code",
   "execution_count": 2,
   "id": "38c6664f",
   "metadata": {},
   "outputs": [
    {
     "data": {
      "text/markdown": [
       "### Initialization"
      ],
      "text/plain": [
       "<IPython.core.display.Markdown object>"
      ]
     },
     "metadata": {},
     "output_type": "display_data"
    },
    {
     "name": "stdout",
     "output_type": "stream",
     "text": [
      " Initialize Snowpark session\n"
     ]
    },
    {
     "data": {
      "text/html": [
       "<div>\n",
       "<style scoped>\n",
       "    .dataframe tbody tr th:only-of-type {\n",
       "        vertical-align: middle;\n",
       "    }\n",
       "\n",
       "    .dataframe tbody tr th {\n",
       "        vertical-align: top;\n",
       "    }\n",
       "\n",
       "    .dataframe thead th {\n",
       "        text-align: right;\n",
       "    }\n",
       "</style>\n",
       "<table border=\"1\" class=\"dataframe\">\n",
       "  <thead>\n",
       "    <tr style=\"text-align: right;\">\n",
       "      <th></th>\n",
       "      <th>CURRENT_WAREHOUSE()</th>\n",
       "      <th>CURRENT_USER()</th>\n",
       "      <th>CURRENT_ROLE()</th>\n",
       "    </tr>\n",
       "  </thead>\n",
       "  <tbody>\n",
       "    <tr>\n",
       "      <th>0</th>\n",
       "      <td>LAB_WH</td>\n",
       "      <td>VSEKAR</td>\n",
       "      <td>DEV_BLOGGER</td>\n",
       "    </tr>\n",
       "  </tbody>\n",
       "</table>\n",
       "</div>"
      ],
      "text/plain": [
       "  CURRENT_WAREHOUSE() CURRENT_USER() CURRENT_ROLE()\n",
       "0              LAB_WH         VSEKAR    DEV_BLOGGER"
      ]
     },
     "metadata": {},
     "output_type": "display_data"
    }
   ],
   "source": [
    "display(Markdown(\"### Initialization\"))\n",
    "\n",
    "config = configparser.ConfigParser()\n",
    "sflk_session = None\n",
    "\n",
    "print(\" Initialize Snowpark session\")\n",
    "with open(CONFIG_FL) as f:\n",
    "    config.read(CONFIG_FL)\n",
    "    snow_conn_flpath =  f\"{PROJECT_HOME_DIR}/{config['DEFAULT']['connection_fl']}\"\n",
    "    \n",
    "    # ------------\n",
    "    # Connect to snowflake\n",
    "    with open(snow_conn_flpath) as conn_f:\n",
    "        snow_conn_info = json.load(conn_f)\n",
    "        sflk_session = Session.builder.configs(snow_conn_info).create()\n",
    "\n",
    "if(sflk_session == None):\n",
    "    raise(f'Unable to connect to snowflake. Validate connection information in file: {CONFIG_FL} ')\n",
    "\n",
    "df = sflk_session.sql('select current_warehouse(), current_user(), current_role();').to_pandas()\n",
    "display(df)"
   ]
  },
  {
   "cell_type": "code",
   "execution_count": 3,
   "id": "6b3316c3",
   "metadata": {},
   "outputs": [
    {
     "name": "stdout",
     "output_type": "stream",
     "text": [
      " Created database sflk_autogluon_db \n"
     ]
    }
   ],
   "source": [
    "# Create database\n",
    "\n",
    "target_db = config['DEFAULT']['db']\n",
    "target_schema = config['DEFAULT']['sch']\n",
    "stage = config['DEFAULT']['stage']\n",
    "stmts = [\n",
    "    f''' create or replace database {target_db} \n",
    "            comment='used for demonstrating snowflake and autogluon capability';  ''' \n",
    "    \n",
    "    # The public schema would be created automatically by the db creation, hence the following\n",
    "    # is commented out. Can be used if public schema is not desired\n",
    "    # ,f''' create or replace schema {target_db}.{share_data_schema}\n",
    "    #         comment='holds the base data'; '''\n",
    "\n",
    "    ,f''' create or replace stage {target_db}.{target_schema}.{stage}\n",
    "            directory = (enable=true)\n",
    "            comment = 'used for holding various code & library artifacts.'; '''\n",
    "    \n",
    "]    \n",
    "    \n",
    "for stmt in stmts:\n",
    "    sflk_session.sql(stmt).collect()\n",
    "\n",
    "print(f' Created database {target_db} ')"
   ]
  },
  {
   "cell_type": "markdown",
   "id": "1d6ffbf6",
   "metadata": {},
   "source": [
    "--- \n",
    "### Closeout\n",
    "\n",
    "    With that we are finished this section of the demo setup"
   ]
  },
  {
   "cell_type": "code",
   "execution_count": 4,
   "id": "192cf880",
   "metadata": {},
   "outputs": [
    {
     "name": "stdout",
     "output_type": "stream",
     "text": [
      "Finished!!!\n"
     ]
    }
   ],
   "source": [
    "sflk_session.close()\n",
    "print('Finished!!!')"
   ]
  }
 ],
 "metadata": {
  "kernelspec": {
   "display_name": "Python 3 (ipykernel)",
   "language": "python",
   "name": "python3"
  },
  "language_info": {
   "codemirror_mode": {
    "name": "ipython",
    "version": 3
   },
   "file_extension": ".py",
   "mimetype": "text/x-python",
   "name": "python",
   "nbconvert_exporter": "python",
   "pygments_lexer": "ipython3",
   "version": "3.8.13"
  },
  "vscode": {
   "interpreter": {
    "hash": "d9f98284b1b77effdad8e825a9416e70aada8c9b829685ab62b26245ff3dd3a0"
   }
  }
 },
 "nbformat": 4,
 "nbformat_minor": 5
}
