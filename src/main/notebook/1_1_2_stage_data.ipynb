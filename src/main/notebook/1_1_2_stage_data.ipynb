{
 "cells": [
  {
   "cell_type": "markdown",
   "id": "aca7b9a2-ae11-48f8-800d-08aecf325cd4",
   "metadata": {},
   "source": [
    "# Step 1.1.2 Stage Dataset\n",
    "\n",
    "We would do the following:\n",
    " - Upload the data into stage\n",
    " - Load the same into Snowflake\n",
    " - Perform data/feature engineering for handling\n",
    "     - missing data\n",
    "     - null records\n"
   ]
  },
  {
   "cell_type": "code",
   "execution_count": 16,
   "id": "c22660f3",
   "metadata": {},
   "outputs": [],
   "source": [
    "from IPython.display import display, HTML, Image , Markdown\n",
    "from snowflake.snowpark.session import Session\n",
    "# from snowflake.snowpark.types import * \n",
    "# from snowflake.snowpark.functions import *\n",
    "import configparser\n",
    "\n",
    "PROJECT_HOME_DIR = '../../..'\n",
    "CONFIG_FL = f'{PROJECT_HOME_DIR}/config.ini'\n",
    "LOCAL_TEMP_DIR = f'{PROJECT_HOME_DIR}/temp'\n",
    "\n",
    "%run ./scripts/notebook_helpers.py"
   ]
  },
  {
   "cell_type": "code",
   "execution_count": 17,
   "id": "fadfa9bb",
   "metadata": {},
   "outputs": [
    {
     "data": {
      "text/html": [
       "<img src onerror=\"var cell = this.closest('.jp-CodeCell');var editor = cell.querySelector('.jp-Editor');editor.style.background='#EAE3D2';this.parentNode.removeChild(this)\" style=\"display:none\">"
      ],
      "text/plain": [
       "<IPython.core.display.HTML object>"
      ]
     },
     "metadata": {},
     "output_type": "display_data"
    },
    {
     "name": "stdout",
     "output_type": "stream",
     "text": [
      " Initialize Snowpark session\n"
     ]
    },
    {
     "data": {
      "text/html": [
       "<div>\n",
       "<style scoped>\n",
       "    .dataframe tbody tr th:only-of-type {\n",
       "        vertical-align: middle;\n",
       "    }\n",
       "\n",
       "    .dataframe tbody tr th {\n",
       "        vertical-align: top;\n",
       "    }\n",
       "\n",
       "    .dataframe thead th {\n",
       "        text-align: right;\n",
       "    }\n",
       "</style>\n",
       "<table border=\"1\" class=\"dataframe\">\n",
       "  <thead>\n",
       "    <tr style=\"text-align: right;\">\n",
       "      <th></th>\n",
       "      <th>CURRENT_WAREHOUSE()</th>\n",
       "      <th>CURRENT_USER()</th>\n",
       "      <th>CURRENT_ROLE()</th>\n",
       "    </tr>\n",
       "  </thead>\n",
       "  <tbody>\n",
       "    <tr>\n",
       "      <th>0</th>\n",
       "      <td>LAB_WH</td>\n",
       "      <td>VSEKAR</td>\n",
       "      <td>DEV_BLOGGER</td>\n",
       "    </tr>\n",
       "  </tbody>\n",
       "</table>\n",
       "</div>"
      ],
      "text/plain": [
       "  CURRENT_WAREHOUSE() CURRENT_USER() CURRENT_ROLE()\n",
       "0              LAB_WH         VSEKAR    DEV_BLOGGER"
      ]
     },
     "metadata": {},
     "output_type": "display_data"
    }
   ],
   "source": [
    "# Initialization\n",
    "set_cell_background('#EAE3D2')\n",
    "\n",
    "config = configparser.ConfigParser()\n",
    "sflk_session = None\n",
    "\n",
    "print(\" Initialize Snowpark session\")\n",
    "with open(CONFIG_FL) as f:\n",
    "    config.read(CONFIG_FL)\n",
    "    snow_conn_flpath =  f\"{PROJECT_HOME_DIR}/{config['DEFAULT']['connection_fl']}\"\n",
    "    \n",
    "    # ------------\n",
    "    # Connect to snowflake\n",
    "    with open(snow_conn_flpath) as conn_f:\n",
    "        snow_conn_info = json.load(conn_f)\n",
    "        sflk_session = Session.builder.configs(snow_conn_info).create()\n",
    "\n",
    "if(sflk_session == None):\n",
    "    raise(f'Unable to connect to snowflake. Validate connection information in file: {CONFIG_FL} ')\n",
    "\n",
    "df = sflk_session.sql('select current_warehouse(), current_user(), current_role();').to_pandas()\n",
    "display(df)"
   ]
  },
  {
   "cell_type": "markdown",
   "id": "4ad79233",
   "metadata": {},
   "source": [
    "---\n",
    "## Dataset\n",
    "\n",
    "For the demo, we are using the dataset that is available from [kaggle: smart-building-system](https://www.kaggle.com/datasets/ranakrc/smart-building-system).\n",
    "Would recommend that you read the description, to understand the structure & metadata .\n",
    "\n",
    "A sample portion of the data is present in the 'data' folder, will be using this portion in the demo.If you prefer to run with \n",
    "the entire dataset, then you would need to download the data into a local folder and then update the configuration 'smart_building' \n",
    "in 'config.ini' file.\n"
   ]
  },
  {
   "cell_type": "code",
   "execution_count": 19,
   "id": "5d1a096c",
   "metadata": {},
   "outputs": [
    {
     "data": {
      "text/html": [
       "<img src onerror=\"var cell = this.closest('.jp-CodeCell');var editor = cell.querySelector('.jp-Editor');editor.style.background='#EAE3D2';this.parentNode.removeChild(this)\" style=\"display:none\">"
      ],
      "text/plain": [
       "<IPython.core.display.HTML object>"
      ]
     },
     "metadata": {},
     "output_type": "display_data"
    },
    {
     "name": "stdout",
     "output_type": "stream",
     "text": [
      "  Loading sensor readings across rooms into corresponding dataframes ...\n"
     ]
    }
   ],
   "source": [
    "# Upload data\n",
    "set_cell_background('#EAE3D2')\n",
    "\n",
    "import pandas as pd\n",
    "import os \n",
    "from pathlib import Path\n",
    "\n",
    "print('  Loading sensor readings across rooms into corresponding dataframes ...')\n",
    "\n",
    "co2_pddfs = []\n",
    "humidity_pddfs = []\n",
    "light_pddfs = []\n",
    "pir_pddfs = []\n",
    "temperature_pddfs = []\n",
    "\n",
    "DATA_DIR = f'''{PROJECT_HOME_DIR}/{config['DATA']['smart_building']}/'''\n",
    "for path, currentDirectory, files in os.walk(DATA_DIR):\n",
    "    \n",
    "    # Ignore root level directory\n",
    "    if path == DATA_DIR:\n",
    "        continue\n",
    "\n",
    "    # extract the room no from the file path\n",
    "    room_no = path.replace(DATA_DIR,'').split('/')[0]\n",
    "    \n",
    "    for data_fl in files:\n",
    "        data_filepath = os.path.join(path, data_fl)\n",
    "\n",
    "        # There could be none data type files like .DS_STORE,\n",
    "        # Which is introduced by visual code IDE. These should be ignored\n",
    "\n",
    "        if data_filepath.endswith('.csv') == False:\n",
    "            continue\n",
    "        \n",
    "        sensor_type = data_fl.split('.')[0]\n",
    "        tmp_df = pd.read_csv(data_filepath, header=None\n",
    "            ,names=['M_TS', sensor_type])\n",
    "        tmp_df['room_no'] = room_no\n",
    "\n",
    "        tmp_df.columns = [x.upper() for x in tmp_df.columns]\n",
    "\n",
    "        if data_fl.endswith('co2.csv') == True:\n",
    "            co2_pddfs.append(tmp_df)\n",
    "\n",
    "        elif data_fl.endswith('humidity.csv') == True:\n",
    "            humidity_pddfs.append(tmp_df)\n",
    "\n",
    "        elif data_fl.endswith('light.csv') == True:\n",
    "            light_pddfs.append(tmp_df)\n",
    "\n",
    "        elif data_fl.endswith('pir.csv') == True:\n",
    "            pir_pddfs.append(tmp_df)\n",
    "\n",
    "        elif data_fl.endswith('temperature.csv') == True:\n",
    "            temperature_pddfs.append(tmp_df)\n",
    "\n",
    "        # break\n",
    "    \n",
    "co2_pddf = pd.concat(co2_pddfs)\n",
    "humidity_pddf = pd.concat(humidity_pddfs)\n",
    "light_pddf = pd.concat(light_pddfs)\n",
    "pir_pddf = pd.concat(pir_pddfs)\n",
    "temperature_pddf = pd.concat(temperature_pddfs)"
   ]
  },
  {
   "cell_type": "code",
   "execution_count": 20,
   "id": "352c13b6",
   "metadata": {},
   "outputs": [
    {
     "data": {
      "text/html": [
       "<img src onerror=\"var cell = this.closest('.jp-CodeCell');var editor = cell.querySelector('.jp-Editor');editor.style.background='#EAE3D2';this.parentNode.removeChild(this)\" style=\"display:none\">"
      ],
      "text/plain": [
       "<IPython.core.display.HTML object>"
      ]
     },
     "metadata": {},
     "output_type": "display_data"
    },
    {
     "name": "stdout",
     "output_type": "stream",
     "text": [
      " Storing sensor readings into tables ...\n",
      "  Saving table CO2 ...\n",
      "  Saving table HUMIDITY ...\n",
      "  Saving table LIGHT ...\n",
      "  Saving table PIR ...\n",
      "  Saving table TEMPERATURE ...\n"
     ]
    }
   ],
   "source": [
    "# Store into snowflake\n",
    "set_cell_background('#EAE3D2')\n",
    "\n",
    "print(' Storing sensor readings into tables ...')\n",
    "\n",
    "target_db = config['DEFAULT']['db']\n",
    "target_schema = config['DEFAULT']['sch']\n",
    "\n",
    "# Perform cleanup, useful in case of debugging\n",
    "stmts = [\n",
    "    f' use schema {target_db}.{target_schema}; '\n",
    "    ,f' drop table if exists {target_db}.{target_schema}.CO2; '\n",
    "    ,f' drop table if exists {target_db}.{target_schema}.HUMIDITY; '\n",
    "    ,f' drop table if exists {target_db}.{target_schema}.LIGHT; '\n",
    "    ,f' drop table if exists {target_db}.{target_schema}.PIR; '\n",
    "    ,f' drop table if exists {target_db}.{target_schema}.TEMPERATURE; '\n",
    "]\n",
    "for stmt in stmts:\n",
    "    sflk_session.sql(stmt).collect()\n",
    "\n",
    "print('  Saving table CO2 ...')\n",
    "co2_spdf = sflk_session.write_pandas(co2_pddf\n",
    "    ,f'CO2' \n",
    "    , auto_create_table=True, create_temp_table=False)\n",
    "\n",
    "print('  Saving table HUMIDITY ...')\n",
    "humidity_sddf = sflk_session.write_pandas(humidity_pddf\n",
    "    ,f'HUMIDITY'\n",
    "    , auto_create_table=True, create_temp_table=False)\n",
    "\n",
    "print('  Saving table LIGHT ...')\n",
    "light_sddf = sflk_session.write_pandas(light_pddf\n",
    "    ,f'LIGHT'\n",
    "    , auto_create_table=True, create_temp_table=False)\n",
    "\n",
    "print('  Saving table PIR ...')\n",
    "pir_sddf = sflk_session.write_pandas(pir_pddf\n",
    "    ,f'PIR'\n",
    "    , auto_create_table=True, create_temp_table=False)\n",
    "\n",
    "print('  Saving table TEMPERATURE ...')\n",
    "temperature_sddf = sflk_session.write_pandas(temperature_pddf\n",
    "    ,f'TEMPERATURE'\n",
    "    , auto_create_table=True, create_temp_table=False)"
   ]
  },
  {
   "cell_type": "markdown",
   "id": "d1107a01",
   "metadata": {},
   "source": [
    "### Stitch all the sensors data\n",
    "\n",
    "We need to create one dataframe which will contain the measurement across all the sensor types joined for a specific room no and measuring time.\n",
    "\n",
    "We perform this operation using Snowpark. For those of us, who prefers SQL here is a version of what\n",
    "the code does.\n",
    "\n",
    "##### Effective SQL:\n",
    "```sql\n",
    "create or replace view ref_sensor_measurements_vw as\n",
    "select\n",
    "    case\n",
    "        when c.m_ts is not null then c.m_ts\n",
    "        when h.m_ts is not null then h.m_ts\n",
    "        when l.m_ts is not null then l.m_ts\n",
    "        when p.m_ts is not null then p.m_ts\n",
    "        when t.m_ts is not null then t.m_ts\n",
    "    end as upd_mts\n",
    "    ,to_timestamp_ntz(upd_mts) as measured_at\n",
    "    ,c.room_no as measured_room_no\n",
    "    ,c.co2\n",
    "    ,h.humidity\n",
    "    ,l.light\n",
    "    ,p.pir\n",
    "    ,t.temperature\n",
    "    \n",
    "from co2 as c\n",
    "    full outer join humidity as h \n",
    "        on h.room_no = c.room_no\n",
    "            and h.m_ts = c.m_ts\n",
    "    full outer join light as l\n",
    "        on l.room_no = c.room_no\n",
    "            and l.m_ts = c.m_ts\n",
    "    full outer join pir as p\n",
    "        on p.room_no = c.room_no\n",
    "            and p.m_ts = c.m_ts\n",
    "    full outer join temperature as t \n",
    "        on t.room_no = c.room_no\n",
    "            and t.m_ts = c.m_ts\n",
    "where measured_room_no is not null\n",
    ";\n",
    "```\n"
   ]
  },
  {
   "cell_type": "code",
   "execution_count": 21,
   "id": "f4c744da",
   "metadata": {},
   "outputs": [
    {
     "data": {
      "text/html": [
       "<img src onerror=\"var cell = this.closest('.jp-CodeCell');var editor = cell.querySelector('.jp-Editor');editor.style.background='#EAE3D2';this.parentNode.removeChild(this)\" style=\"display:none\">"
      ],
      "text/plain": [
       "<IPython.core.display.HTML object>"
      ]
     },
     "metadata": {},
     "output_type": "display_data"
    }
   ],
   "source": [
    "# Load data into dataframe\n",
    "set_cell_background('#EAE3D2')\n",
    "\n",
    "co2_spdf = sflk_session.table(f'{target_db}.{target_schema}.CO2')\n",
    "humidity_sddf = sflk_session.table(f'{target_db}.{target_schema}.HUMIDITY')\n",
    "light_sddf = sflk_session.table(f'{target_db}.{target_schema}.LIGHT')\n",
    "temperature_sddf = sflk_session.table(f'{target_db}.{target_schema}.TEMPERATURE')\n",
    "pir_sddf = sflk_session.table(f'{target_db}.{target_schema}.PIR')"
   ]
  },
  {
   "cell_type": "code",
   "execution_count": 22,
   "id": "9bd73e20",
   "metadata": {},
   "outputs": [
    {
     "data": {
      "text/html": [
       "<img src onerror=\"var cell = this.closest('.jp-CodeCell');var editor = cell.querySelector('.jp-Editor');editor.style.background='#EAE3D2';this.parentNode.removeChild(this)\" style=\"display:none\">"
      ],
      "text/plain": [
       "<IPython.core.display.HTML object>"
      ]
     },
     "metadata": {},
     "output_type": "display_data"
    },
    {
     "name": "stdout",
     "output_type": "stream",
     "text": [
      "  Creating view: sensor_measurements_vw ...\n",
      "-------------------------------------------------------------------------------------------------------\n",
      "|\"M_TS\"      |\"ROOM_NO\"  |\"CO2\"  |\"HUMIDITY\"  |\"LIGHT\"  |\"TEMPERATURE\"  |\"PIR\"  |\"MEASURED_AT\"        |\n",
      "-------------------------------------------------------------------------------------------------------\n",
      "|1377299107  |413        |488.0  |45.34       |97.0     |23.93          |NULL   |2013-08-23 23:05:07  |\n",
      "|1377299108  |413        |495.0  |45.34       |97.0     |23.94          |0.0    |2013-08-23 23:05:08  |\n",
      "|1377299110  |413        |487.0  |NULL        |NULL     |NULL           |NULL   |2013-08-23 23:05:10  |\n",
      "-------------------------------------------------------------------------------------------------------\n",
      "\n"
     ]
    }
   ],
   "source": [
    "# start from co2\n",
    "set_cell_background('#EAE3D2')\n",
    "\n",
    "room_spdf = co2_spdf\n",
    "\n",
    "room_spdf = room_spdf.join(humidity_sddf \n",
    "    ,(room_spdf.ROOM_NO == humidity_sddf.ROOM_NO) & (room_spdf.M_TS == humidity_sddf.M_TS)\n",
    "    ,'full') \\\n",
    "    .select(\n",
    "        coalesce(room_spdf.M_TS ,humidity_sddf.M_TS).alias('M_TS')\n",
    "        ,room_spdf.ROOM_NO.alias('ROOM_NO') \n",
    "        ,room_spdf.CO2 ,humidity_sddf.HUMIDITY\n",
    "        )\n",
    "\n",
    "room_spdf = room_spdf.join(light_sddf \n",
    "    ,(room_spdf.ROOM_NO == light_sddf.ROOM_NO) & (room_spdf.M_TS == light_sddf.M_TS)\n",
    "    ,'full') \\\n",
    "    .select(\n",
    "        coalesce(room_spdf.M_TS ,light_sddf.M_TS).alias('M_TS')\n",
    "        ,room_spdf.ROOM_NO.alias('ROOM_NO') \n",
    "        ,room_spdf.CO2 ,room_spdf.HUMIDITY\n",
    "        ,light_sddf.LIGHT\n",
    "        )\n",
    "\n",
    "room_spdf = room_spdf.join(temperature_sddf \n",
    "    ,(room_spdf.ROOM_NO == temperature_sddf.ROOM_NO) & (room_spdf.M_TS == temperature_sddf.M_TS)\n",
    "    ,'full') \\\n",
    "    .select(\n",
    "        coalesce(room_spdf.M_TS ,temperature_sddf.M_TS).alias('M_TS')\n",
    "        ,room_spdf.ROOM_NO.alias('ROOM_NO') \n",
    "        ,room_spdf.CO2 ,room_spdf.HUMIDITY ,room_spdf.LIGHT\n",
    "        ,temperature_sddf.TEMPERATURE\n",
    "        )\n",
    "\n",
    "room_spdf = room_spdf.join(pir_sddf \n",
    "    ,(room_spdf.ROOM_NO == pir_sddf.ROOM_NO) & (room_spdf.M_TS == pir_sddf.M_TS)\n",
    "    ,'full') \\\n",
    "    .select(\n",
    "        coalesce(room_spdf.M_TS ,pir_sddf.M_TS).alias('M_TS')\n",
    "        ,room_spdf.ROOM_NO.alias('ROOM_NO') \n",
    "        ,room_spdf.CO2 ,room_spdf.HUMIDITY ,room_spdf.LIGHT ,room_spdf.TEMPERATURE\n",
    "        ,pir_sddf.PIR\n",
    "        )\n",
    "    \n",
    "room_spdf = room_spdf.with_column(\"MEASURED_AT\", to_timestamp(room_spdf.M_TS))\n",
    "\n",
    "room_spdf = room_spdf.filter(is_null(room_spdf.ROOM_NO) == False)\n",
    "\n",
    "sensor_measurements_vw = config['DEFAULT']['sensor_measurements_view']\n",
    "print(f'  Creating view: {sensor_measurements_vw} ...')\n",
    "room_spdf.createOrReplaceView(f'{target_db}.{target_schema}.{sensor_measurements_vw}')\n",
    "room_spdf.show(3)"
   ]
  },
  {
   "cell_type": "markdown",
   "id": "909686be",
   "metadata": {},
   "source": [
    "#### Impute missing values\n",
    "\n",
    "There are lots of records whose measurement (for ex Light) is empty. Instead of dropping these rows, lets assume the measurement remains \n",
    "the same, as the last measured value. We thus fill in the missing measurement values, based on previous/last known measurement for each\n",
    "sensor type.\n",
    "\n",
    "We need to create one dataframe which will contain the measurement across all the sensor types joined for a specific room no and measuring time. \n",
    "\n",
    "##### Effective SQL:\n",
    "```sql\n",
    "\n",
    "create or replace transient table ref_sensor_measurements_imputed as\n",
    "select\n",
    "    upd_mts as m_ts\n",
    "    ,measured_at ,measured_room_no as room_no\n",
    "    ,nvl(co2\n",
    "        ,LAG(co2, 1, -1) IGNORE NULLS OVER (PARTITION BY room_no ORDER BY measured_at ASC NULLS FIRST )\n",
    "        ) AS co2\n",
    "    ,nvl(humidity\n",
    "        ,LAG(humidity, 1, -1) IGNORE NULLS OVER (PARTITION BY room_no ORDER BY measured_at ASC NULLS FIRST )\n",
    "        ) AS humidity\n",
    "    ,nvl(light\n",
    "        ,LAG(light, 1, -1) IGNORE NULLS OVER (PARTITION BY room_no ORDER BY measured_at ASC NULLS FIRST )\n",
    "        ) AS light\n",
    "    ,nvl(temperature\n",
    "        ,LAG(temperature, 1, -1) IGNORE NULLS OVER (PARTITION BY room_no ORDER BY measured_at ASC NULLS FIRST )\n",
    "        ) AS temperature\n",
    "    ,nvl(pir\n",
    "        ,LAG(pir, 1, -1) IGNORE NULLS OVER (PARTITION BY room_no ORDER BY measured_at ASC NULLS FIRST )\n",
    "        ) AS pir\n",
    "    \n",
    "from ref_sensor_measurements_vw\n",
    "order by room_no ,m_ts asc\n",
    ";\n",
    "```"
   ]
  },
  {
   "cell_type": "code",
   "execution_count": 23,
   "id": "ad395bc2",
   "metadata": {},
   "outputs": [
    {
     "data": {
      "text/html": [
       "<img src onerror=\"var cell = this.closest('.jp-CodeCell');var editor = cell.querySelector('.jp-Editor');editor.style.background='#EAE3D2';this.parentNode.removeChild(this)\" style=\"display:none\">"
      ],
      "text/plain": [
       "<IPython.core.display.HTML object>"
      ]
     },
     "metadata": {},
     "output_type": "display_data"
    },
    {
     "name": "stdout",
     "output_type": "stream",
     "text": [
      " Storing result to table: sensor_measurements_imputed ...\n",
      "--------------------------------------------------------------------------------------------------------------------\n",
      "|\"M_TS\"      |\"ROOM_NO\"  |\"MEASURED_AT\"        |\"CO2\"  |\"HUMIDITY\"  |\"LIGHT\"  |\"TEMPERATURE\"  |\"PIR\"  |\"OCCUPIED\"  |\n",
      "--------------------------------------------------------------------------------------------------------------------\n",
      "|1377299107  |413        |2013-08-23 23:05:07  |488.0  |45.34       |97.0     |23.93          |-1.0   |-1          |\n",
      "|1377299108  |413        |2013-08-23 23:05:08  |495.0  |45.34       |97.0     |23.94          |0.0    |0           |\n",
      "|1377299110  |413        |2013-08-23 23:05:10  |487.0  |45.34       |97.0     |23.94          |0.0    |0           |\n",
      "--------------------------------------------------------------------------------------------------------------------\n",
      "\n"
     ]
    }
   ],
   "source": [
    "# merge all the dataframe together\n",
    "set_cell_background('#EAE3D2')\n",
    "\n",
    "from snowflake.snowpark import Window ,WindowSpec\n",
    "\n",
    "room_imputed_spdf = sflk_session.table(f'{target_db}.{target_schema}.{sensor_measurements_vw}')\n",
    "\n",
    "\n",
    "room_imputed_spdf = room_imputed_spdf.with_column(\"CO2\", \n",
    "                        coalesce(room_spdf.CO2 \n",
    "                            ,lag(room_spdf.CO2 ,offset = 1 ,default_value = -1 ,ignore_nulls = True)\n",
    "                                .over(Window.partitionBy(room_spdf.ROOM_NO).order_by(room_spdf.M_TS))\n",
    "                        )\n",
    ")\n",
    "\n",
    "room_imputed_spdf = room_imputed_spdf.with_column(\"HUMIDITY\", \n",
    "                        coalesce(room_spdf.HUMIDITY \n",
    "                            ,lag(room_spdf.HUMIDITY ,offset = 1 ,default_value = -1 ,ignore_nulls = True)\n",
    "                                .over(Window.partitionBy(room_spdf.ROOM_NO).order_by(room_spdf.M_TS))\n",
    "                        )\n",
    ")\n",
    "\n",
    "room_imputed_spdf = room_imputed_spdf.with_column(\"LIGHT\", \n",
    "                        coalesce(room_spdf.LIGHT \n",
    "                            ,lag(room_spdf.LIGHT ,offset = 1 ,default_value = -1 ,ignore_nulls = True)\n",
    "                                .over(Window.partitionBy(room_spdf.ROOM_NO).order_by(room_spdf.M_TS))\n",
    "                        )\n",
    ")\n",
    "\n",
    "room_imputed_spdf = room_imputed_spdf.with_column(\"TEMPERATURE\", \n",
    "                        coalesce(room_spdf.TEMPERATURE \n",
    "                            ,lag(room_spdf.TEMPERATURE ,offset = 1 ,default_value = -1 ,ignore_nulls = True)\n",
    "                                .over(Window.partitionBy(room_spdf.ROOM_NO).order_by(room_spdf.M_TS))\n",
    "                        )\n",
    ")\n",
    "\n",
    "room_imputed_spdf = room_imputed_spdf.with_column(\"PIR\", \n",
    "                        coalesce(room_spdf.PIR \n",
    "                            ,lag(room_spdf.PIR ,offset = 1 ,default_value = -1 ,ignore_nulls = True)\n",
    "                                .over(Window.partitionBy(room_spdf.ROOM_NO).order_by(room_spdf.M_TS))\n",
    "                        )\n",
    ")\n",
    "\n",
    "room_imputed_spdf = room_imputed_spdf.with_column(\"OCCUPIED\"\n",
    "    ,iff(room_spdf.PIR < 0, -1 \n",
    "        ,iff(room_spdf.PIR > 0, 1 ,0)\n",
    "    )\n",
    ")\n",
    "\n",
    "room_imputed_spdf = room_imputed_spdf.sort(room_imputed_spdf.ROOM_NO ,room_imputed_spdf.M_TS.asc())\n",
    "\n",
    "imputed_table = config['DEFAULT']['sensor_measurements_imputed_table']\n",
    "print(f' Storing result to table: {imputed_table} ...')\n",
    "room_imputed_spdf.write.mode(\"overwrite\").save_as_table(f'{target_db}.{target_schema}.{imputed_table}')\n",
    "\n",
    "\n",
    "room_imputed_spdf.show(3)"
   ]
  },
  {
   "cell_type": "markdown",
   "id": "0ff35858-91cf-4ad1-a361-37a161b37539",
   "metadata": {},
   "source": [
    "---\n",
    "### Close out\n",
    "\n",
    "    With that we are finished this section of the demo setup"
   ]
  },
  {
   "cell_type": "code",
   "execution_count": 24,
   "id": "cf34e465-233f-4b98-abd6-25bbc4efe604",
   "metadata": {},
   "outputs": [
    {
     "name": "stdout",
     "output_type": "stream",
     "text": [
      "Finished!!!\n"
     ]
    }
   ],
   "source": [
    "sflk_session.close()\n",
    "print('Finished!!!')"
   ]
  }
 ],
 "metadata": {
  "kernelspec": {
   "display_name": "Python 3 (ipykernel)",
   "language": "python",
   "name": "python3"
  },
  "language_info": {
   "codemirror_mode": {
    "name": "ipython",
    "version": 3
   },
   "file_extension": ".py",
   "mimetype": "text/x-python",
   "name": "python",
   "nbconvert_exporter": "python",
   "pygments_lexer": "ipython3",
   "version": "3.8.13"
  },
  "vscode": {
   "interpreter": {
    "hash": "d9f98284b1b77effdad8e825a9416e70aada8c9b829685ab62b26245ff3dd3a0"
   }
  }
 },
 "nbformat": 4,
 "nbformat_minor": 5
}
