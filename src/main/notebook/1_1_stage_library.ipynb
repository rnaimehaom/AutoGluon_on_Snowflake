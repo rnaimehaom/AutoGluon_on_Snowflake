{
 "cells": [
  {
   "cell_type": "markdown",
   "id": "aca7b9a2-ae11-48f8-800d-08aecf325cd4",
   "metadata": {},
   "source": [
    "# Step 1.1 Stage Libraries\n",
    "Libraries such as [AutoGluon](https://auto.gluon.ai) are not part of the default Snowpark/Anaconda distributions. Snowflake\n",
    "does allow us to use 3rd party libraries in our UDF/UDTF as documented here:    \n",
    "- Doc: [Creating a Python UDF With Code Uploaded from a Stage](https://docs.snowflake.com/en/developer-guide/udf/python/udf-python-creating.html#creating-a-python-udf-with-code-uploaded-from-a-stage)\n",
    "- Doc: [Using Third-Party Packages](https://docs.snowflake.com/en/developer-guide/udf/python/udf-python-packages.html#using-third-party-packages)\n",
    "\n",
    "Hence we need to \n",
    "  - download libraries \n",
    "  - load the libraries to an internal stage"
   ]
  },
  {
   "cell_type": "code",
   "execution_count": 31,
   "id": "c22660f3",
   "metadata": {},
   "outputs": [],
   "source": [
    "from IPython.display import display, HTML, Image , Markdown\n",
    "from snowflake.snowpark.session import Session\n",
    "# from snowflake.snowpark.types import * \n",
    "# from snowflake.snowpark.functions import *\n",
    "import configparser\n",
    "\n",
    "PROJECT_HOME_DIR = '../../..'\n",
    "CONFIG_FL = f'{PROJECT_HOME_DIR}/config.ini'\n",
    "\n",
    "# Source various helper functions\n",
    "%run ./scripts/notebook_helpers.py\n"
   ]
  },
  {
   "cell_type": "code",
   "execution_count": 32,
   "id": "fadfa9bb",
   "metadata": {},
   "outputs": [
    {
     "data": {
      "text/html": [
       "<img src onerror=\"var cell = this.closest('.jp-CodeCell');var editor = cell.querySelector('.jp-Editor');editor.style.background='#EAE3D2';this.parentNode.removeChild(this)\" style=\"display:none\">"
      ],
      "text/plain": [
       "<IPython.core.display.HTML object>"
      ]
     },
     "metadata": {},
     "output_type": "display_data"
    },
    {
     "name": "stdout",
     "output_type": "stream",
     "text": [
      " Initialize Snowpark session\n"
     ]
    },
    {
     "data": {
      "text/html": [
       "<div>\n",
       "<style scoped>\n",
       "    .dataframe tbody tr th:only-of-type {\n",
       "        vertical-align: middle;\n",
       "    }\n",
       "\n",
       "    .dataframe tbody tr th {\n",
       "        vertical-align: top;\n",
       "    }\n",
       "\n",
       "    .dataframe thead th {\n",
       "        text-align: right;\n",
       "    }\n",
       "</style>\n",
       "<table border=\"1\" class=\"dataframe\">\n",
       "  <thead>\n",
       "    <tr style=\"text-align: right;\">\n",
       "      <th></th>\n",
       "      <th>CURRENT_WAREHOUSE()</th>\n",
       "      <th>CURRENT_USER()</th>\n",
       "      <th>CURRENT_ROLE()</th>\n",
       "    </tr>\n",
       "  </thead>\n",
       "  <tbody>\n",
       "    <tr>\n",
       "      <th>0</th>\n",
       "      <td>LAB_WH</td>\n",
       "      <td>VSEKAR</td>\n",
       "      <td>DEV_BLOGGER</td>\n",
       "    </tr>\n",
       "  </tbody>\n",
       "</table>\n",
       "</div>"
      ],
      "text/plain": [
       "  CURRENT_WAREHOUSE() CURRENT_USER() CURRENT_ROLE()\n",
       "0              LAB_WH         VSEKAR    DEV_BLOGGER"
      ]
     },
     "metadata": {},
     "output_type": "display_data"
    }
   ],
   "source": [
    "# Initialization\n",
    "\n",
    "set_cell_background('#EAE3D2')\n",
    "\n",
    "config = configparser.ConfigParser()\n",
    "sflk_session = None\n",
    "\n",
    "print(\" Initialize Snowpark session\")\n",
    "with open(CONFIG_FL) as f:\n",
    "    config.read(CONFIG_FL)\n",
    "    snow_conn_flpath =  f\"{PROJECT_HOME_DIR}/{config['DEFAULT']['connection_fl']}\"\n",
    "    \n",
    "    # ------------\n",
    "    # Connect to snowflake\n",
    "    with open(snow_conn_flpath) as conn_f:\n",
    "        snow_conn_info = json.load(conn_f)\n",
    "        sflk_session = Session.builder.configs(snow_conn_info).create()\n",
    "\n",
    "if(sflk_session == None):\n",
    "    raise(f'Unable to connect to snowflake. Validate connection information in file: {CONFIG_FL} ')\n",
    "\n",
    "df = sflk_session.sql('select current_warehouse(), current_user(), current_role();').to_pandas()\n",
    "display(df)\n"
   ]
  },
  {
   "cell_type": "markdown",
   "id": "d54fd55b",
   "metadata": {},
   "source": [
    "---\n",
    "## The Libraries\n",
    "\n",
    "We are downloading the various Wheel files directly from PyPi. These URLs are not same and will change with different versions. \n",
    "It is very highly possible, that there is a newer version of libraries when you are running this experiement. Should you prefer\n",
    "to use the latest, then you would need to update the urls.\n",
    "\n",
    "If you notice below, I am purposefully downloading specific modules of AutoGluon (ex: autogluon-tabular). The reason is that the\n",
    "base library (autogluon-XXX) does not have any of the modules by default. When you do a Pip install, then all these sub-modules\n",
    "seems to get downloaded. Now in a managed secure environment like where the python UDF would be running, no network connection \n",
    "is possible, as the networks calls are blocked. Hence we are taking the effort of downloading these sub-modules ourselves.\n",
    "\n",
    "The libraries would be downloaded to a local directory 'temp/lib', which will get created as part of this execution."
   ]
  },
  {
   "cell_type": "code",
   "execution_count": 33,
   "id": "8fd06bb0",
   "metadata": {},
   "outputs": [
    {
     "data": {
      "text/html": [
       "<img src onerror=\"var cell = this.closest('.jp-CodeCell');var editor = cell.querySelector('.jp-Editor');editor.style.background='#EAE3D2';this.parentNode.removeChild(this)\" style=\"display:none\">"
      ],
      "text/plain": [
       "<IPython.core.display.HTML object>"
      ]
     },
     "metadata": {},
     "output_type": "display_data"
    },
    {
     "name": "stdout",
     "output_type": "stream",
     "text": [
      "  Downloading library: autogluon.tabular-0.5.2-py3-none-any.whl ...\n",
      "  Create local dir: ../../../temp/libs\n",
      "  Downloading library from PyPI to ../../../temp/libs ...\n",
      "  Downloading library: autogluon.core-0.5.2-py3-none-any.whl ...\n",
      "  Create local dir: ../../../temp/libs\n",
      "  Downloading library from PyPI to ../../../temp/libs ...\n",
      "  Downloading library: autogluon.common-0.5.2-py3-none-any.whl ...\n",
      "  Create local dir: ../../../temp/libs\n",
      "  Downloading library from PyPI to ../../../temp/libs ...\n",
      "  Downloading library: autogluon.extra-0.3.1-py3-none-any.whl ...\n",
      "  Create local dir: ../../../temp/libs\n",
      "  Downloading library from PyPI to ../../../temp/libs ...\n",
      "  Downloading library: autogluon.features-0.5.2-py3-none-any.whl ...\n",
      "  Create local dir: ../../../temp/libs\n",
      "  Downloading library from PyPI to ../../../temp/libs ...\n",
      "  Downloading library: autogluon.multimodal-0.5.2-py3-none-any.whl ...\n",
      "  Create local dir: ../../../temp/libs\n",
      "  Downloading library from PyPI to ../../../temp/libs ...\n",
      "  Downloading library: autogluon-0.5.2-py3-none-any.whl ...\n",
      "  Create local dir: ../../../temp/libs\n",
      "  Downloading library from PyPI to ../../../temp/libs ...\n"
     ]
    }
   ],
   "source": [
    "# Download libraries\n",
    "set_cell_background('#EAE3D2')\n",
    "\n",
    "LOCAL_TEMP_DIR = os.path.join(PROJECT_HOME_DIR, 'temp') \n",
    "LOCAL_LIB_DIR = os.path.join(LOCAL_TEMP_DIR, 'libs')\n",
    "LIB_URLS = [\n",
    "    'https://files.pythonhosted.org/packages/a8/51/f5a35cc8357b3c4d1da50f535335026741a21d375baf4839c382f3c9a609/autogluon.tabular-0.5.2-py3-none-any.whl'\n",
    "    ,'https://files.pythonhosted.org/packages/fc/79/9aeb3317bfe7339f077eb43bc0bafdeaa216c33be0263993adad707e5cab/autogluon.core-0.5.2-py3-none-any.whl'\n",
    "    ,'https://files.pythonhosted.org/packages/32/e0/aa06472d4f526fa827c7f543939c4bf53d55ee7897281984d369f7bd63a6/autogluon.common-0.5.2-py3-none-any.whl'\n",
    "    ,'https://files.pythonhosted.org/packages/64/88/3e24833d2e8798f49e68ba392d88eb8c59c649d020117c593e551f17608e/autogluon.extra-0.3.1-py3-none-any.whl'\n",
    "    ,'https://files.pythonhosted.org/packages/00/5a/e57d5cfb4a88a9a80ea2eecd2354a6cdd61846714c277323d9c03e585b51/autogluon.features-0.5.2-py3-none-any.whl'\n",
    "    ,'https://files.pythonhosted.org/packages/50/70/1fc8354a51f3f967f8bf6c392937b8cba0b693eda7383e2cde1af9ed636c/autogluon.multimodal-0.5.2-py3-none-any.whl'\n",
    "    ,'https://files.pythonhosted.org/packages/d0/1c/dda16dd9812a22ab8b2066a7b31ced1685595825d4f294f9b27a7925a4e2/autogluon-0.5.2-py3-none-any.whl'\n",
    "]\n",
    "\n",
    "for lib_url in LIB_URLS:\n",
    "    # get the file name, from the url\n",
    "    splits = lib_url.split('/')\n",
    "    tot_splits = len(splits)\n",
    "    target_file = splits[tot_splits - 1]\n",
    "\n",
    "    download_library_frompypi_tolocal(lib_url ,target_file ,LOCAL_LIB_DIR)"
   ]
  },
  {
   "cell_type": "markdown",
   "id": "8484673b",
   "metadata": {},
   "source": [
    "Once downloaded the libraries would then be uploaded to the stage"
   ]
  },
  {
   "cell_type": "code",
   "execution_count": 36,
   "id": "257d2fc1",
   "metadata": {},
   "outputs": [
    {
     "data": {
      "text/html": [
       "<img src onerror=\"var cell = this.closest('.jp-CodeCell');var editor = cell.querySelector('.jp-Editor');editor.style.background='#EAE3D2';this.parentNode.removeChild(this)\" style=\"display:none\">"
      ],
      "text/plain": [
       "<IPython.core.display.HTML object>"
      ]
     },
     "metadata": {},
     "output_type": "display_data"
    },
    {
     "name": "stdout",
     "output_type": "stream",
     "text": [
      " Uploading library to stage: sflk_autogluon_db.public.lib_data_stg \n",
      "    ../../../temp/libs/autogluon.multimodal-0.5.2-py3-none-any.whl => @lib_data_stg/libs/\n",
      "    ../../../temp/libs/autogluon.common-0.5.2-py3-none-any.whl => @lib_data_stg/libs/\n",
      "    ../../../temp/libs/autogluon.extra-0.3.1-py3-none-any.whl => @lib_data_stg/libs/\n",
      "    ../../../temp/libs/autogluon-0.5.2-py3-none-any.whl => @lib_data_stg/libs/\n",
      "    ../../../temp/libs/autogluon.tabular-0.5.2-py3-none-any.whl => @lib_data_stg/libs/\n",
      "    ../../../temp/libs/autogluon.features-0.5.2-py3-none-any.whl => @lib_data_stg/libs/\n",
      "    ../../../temp/libs/autogluon.core-0.5.2-py3-none-any.whl => @lib_data_stg/libs/\n"
     ]
    }
   ],
   "source": [
    "# Upload libraries to stage\n",
    "set_cell_background('#EAE3D2')\n",
    "\n",
    "target_db = config['DEFAULT']['db']\n",
    "target_schema = config['DEFAULT']['sch']\n",
    "stage = config['DEFAULT']['stage']\n",
    "stage_lib_dir = config['DEFAULT']['stage_lib_dir']\n",
    "\n",
    "upload_locallibraries_to_p_stage(sflk_session ,LOCAL_LIB_DIR ,target_db ,target_schema ,stage ,stage_lib_dir)"
   ]
  },
  {
   "cell_type": "code",
   "execution_count": 37,
   "id": "ad4c6bb6",
   "metadata": {
    "tags": []
   },
   "outputs": [
    {
     "data": {
      "text/html": [
       "<img src onerror=\"var cell = this.closest('.jp-CodeCell');var editor = cell.querySelector('.jp-Editor');editor.style.background='#EAE3D2';this.parentNode.removeChild(this)\" style=\"display:none\">"
      ],
      "text/plain": [
       "<IPython.core.display.HTML object>"
      ]
     },
     "metadata": {},
     "output_type": "display_data"
    },
    {
     "name": "stdout",
     "output_type": "stream",
     "text": [
      " List stage directory !!\n"
     ]
    },
    {
     "data": {
      "text/html": [
       "<div>\n",
       "<style scoped>\n",
       "    .dataframe tbody tr th:only-of-type {\n",
       "        vertical-align: middle;\n",
       "    }\n",
       "\n",
       "    .dataframe tbody tr th {\n",
       "        vertical-align: top;\n",
       "    }\n",
       "\n",
       "    .dataframe thead th {\n",
       "        text-align: right;\n",
       "    }\n",
       "</style>\n",
       "<table border=\"1\" class=\"dataframe\">\n",
       "  <thead>\n",
       "    <tr style=\"text-align: right;\">\n",
       "      <th></th>\n",
       "      <th>RELATIVE_PATH</th>\n",
       "    </tr>\n",
       "  </thead>\n",
       "  <tbody>\n",
       "    <tr>\n",
       "      <th>0</th>\n",
       "      <td>libs/autogluon-0.5.2-py3-none-any.whl</td>\n",
       "    </tr>\n",
       "    <tr>\n",
       "      <th>1</th>\n",
       "      <td>libs/autogluon.common-0.5.2-py3-none-any.whl</td>\n",
       "    </tr>\n",
       "    <tr>\n",
       "      <th>2</th>\n",
       "      <td>libs/autogluon.core-0.5.2-py3-none-any.whl</td>\n",
       "    </tr>\n",
       "    <tr>\n",
       "      <th>3</th>\n",
       "      <td>libs/autogluon.extra-0.3.1-py3-none-any.whl</td>\n",
       "    </tr>\n",
       "    <tr>\n",
       "      <th>4</th>\n",
       "      <td>libs/autogluon.features-0.5.2-py3-none-any.whl</td>\n",
       "    </tr>\n",
       "    <tr>\n",
       "      <th>5</th>\n",
       "      <td>libs/autogluon.multimodal-0.5.2-py3-none-any.whl</td>\n",
       "    </tr>\n",
       "    <tr>\n",
       "      <th>6</th>\n",
       "      <td>libs/autogluon.tabular-0.5.2-py3-none-any.whl</td>\n",
       "    </tr>\n",
       "  </tbody>\n",
       "</table>\n",
       "</div>"
      ],
      "text/plain": [
       "                                      RELATIVE_PATH\n",
       "0             libs/autogluon-0.5.2-py3-none-any.whl\n",
       "1      libs/autogluon.common-0.5.2-py3-none-any.whl\n",
       "2        libs/autogluon.core-0.5.2-py3-none-any.whl\n",
       "3       libs/autogluon.extra-0.3.1-py3-none-any.whl\n",
       "4    libs/autogluon.features-0.5.2-py3-none-any.whl\n",
       "5  libs/autogluon.multimodal-0.5.2-py3-none-any.whl\n",
       "6     libs/autogluon.tabular-0.5.2-py3-none-any.whl"
      ]
     },
     "metadata": {},
     "output_type": "display_data"
    }
   ],
   "source": [
    "# List stage out\n",
    "set_cell_background('#EAE3D2')\n",
    "\n",
    "print(' List stage directory !!')\n",
    "sflk_session.sql(f'alter stage {target_db}.{target_schema}.{stage} refresh; ').collect()\n",
    "\n",
    "df = sflk_session.sql(f'select RELATIVE_PATH from directory(@{target_db}.{target_schema}.{stage}); ').to_pandas()\n",
    "display(df)"
   ]
  },
  {
   "cell_type": "markdown",
   "id": "0ff35858-91cf-4ad1-a361-37a161b37539",
   "metadata": {},
   "source": [
    "---\n",
    "### Close out\n",
    "\n",
    "    With that we are finished this section of the demo setup"
   ]
  },
  {
   "cell_type": "code",
   "execution_count": 13,
   "id": "cf34e465-233f-4b98-abd6-25bbc4efe604",
   "metadata": {},
   "outputs": [
    {
     "name": "stdout",
     "output_type": "stream",
     "text": [
      "Finished!!!\n"
     ]
    }
   ],
   "source": [
    "sflk_session.close()\n",
    "print('Finished!!!')"
   ]
  }
 ],
 "metadata": {
  "kernelspec": {
   "display_name": "Python 3 (ipykernel)",
   "language": "python",
   "name": "python3"
  },
  "language_info": {
   "codemirror_mode": {
    "name": "ipython",
    "version": 3
   },
   "file_extension": ".py",
   "mimetype": "text/x-python",
   "name": "python",
   "nbconvert_exporter": "python",
   "pygments_lexer": "ipython3",
   "version": "3.8.13"
  },
  "vscode": {
   "interpreter": {
    "hash": "d9f98284b1b77effdad8e825a9416e70aada8c9b829685ab62b26245ff3dd3a0"
   }
  }
 },
 "nbformat": 4,
 "nbformat_minor": 5
}
